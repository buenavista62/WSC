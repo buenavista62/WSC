{
 "cells": [
  {
   "cell_type": "markdown",
   "id": "b088d034",
   "metadata": {
    "tags": []
   },
   "source": [
    "## Social Security\n",
    "####  Winter School on Smart Contracts\n",
    "##### Sercan Ates, 15-917-024\n",
    "2022-04-02\n"
   ]
  },
  {
   "cell_type": "markdown",
   "id": "a5634b6d",
   "metadata": {
    "tags": []
   },
   "source": [
    "## Setup\n",
    "See notebook 04.1, loading `algo_util.py`, the five accounts and the Purestake credentials\n",
    "* Consider hiding this code"
   ]
  },
  {
   "cell_type": "code",
   "execution_count": 1,
   "id": "cf147ca7",
   "metadata": {
    "jupyter": {
     "source_hidden": true
    },
    "tags": []
   },
   "outputs": [],
   "source": [
    "# Loading shared code and credentials\n",
    "import sys, os\n",
    "codepath = '..'+os.path.sep+'..'+os.path.sep+'sharedCode'\n",
    "sys.path.append(codepath)\n",
    "from algo_util import *\n",
    "cred = load_credentials()\n",
    "MyAlgo  = cred['MyAlgo']\n",
    "Alice   = cred['Alice']\n",
    "Bob     = cred['Bob']\n",
    "Charlie = cred['Charlie']\n",
    "Dina    = cred['Dina']"
   ]
  },
  {
   "cell_type": "code",
   "execution_count": 371,
   "id": "7fce4eb7",
   "metadata": {
    "tags": []
   },
   "outputs": [],
   "source": [
    "from algosdk import account, mnemonic, encoding,logic\n",
    "from algosdk.v2client import algod\n",
    "from algosdk.future import transaction\n",
    "from algosdk.future.transaction import PaymentTxn\n",
    "from algosdk.future.transaction import AssetConfigTxn, AssetTransferTxn, AssetFreezeTxn, LogicSig, LogicSigTransaction\n",
    "import algosdk.error\n",
    "import json\n",
    "import base64\n",
    "import datetime"
   ]
  },
  {
   "cell_type": "code",
   "execution_count": 372,
   "id": "ce0718a0",
   "metadata": {
    "tags": []
   },
   "outputs": [],
   "source": [
    "from pyteal import *"
   ]
  },
  {
   "cell_type": "code",
   "execution_count": 373,
   "id": "43c34c49",
   "metadata": {
    "tags": []
   },
   "outputs": [
    {
     "name": "stdout",
     "output_type": "stream",
     "text": [
      "Last committed block is: 20613200\n"
     ]
    }
   ],
   "source": [
    "# Initialize the algod client (Testnet or Mainnet)\n",
    "algod_client = algod.AlgodClient(algod_token='', algod_address=cred['algod_test'], headers=cred['purestake_token'])\n",
    "last_block = algod_client.status()[\"last-round\"]\n",
    "print(f\"Last committed block is: {last_block}\")"
   ]
  },
  {
   "cell_type": "code",
   "execution_count": 374,
   "id": "629390a0",
   "metadata": {
    "jupyter": {
     "source_hidden": true
    },
    "tags": []
   },
   "outputs": [
    {
     "name": "stdout",
     "output_type": "stream",
     "text": [
      "V7BJQQBHMT5WHI5Z3NBUME4KXSRDZIP4BC6I5XMRBW63MYHUAGP5CQJXDI Alice\n",
      "G6CQ6JO37JFGQBIW5IPP2OYWRN2XWGKQY4IXQ3SRNQC73ZTPCPLT6NNTPY Bob\n",
      "DG2OLFAF5MK6VJP4L3C42FFBMHJ3JSUUKVQHVKBHDFLQA4O6OEKVKSRS3U Charlie\n",
      "25UUED44Z2EUVCAFZUOC33LTJDE5C6ZI3UGDZPVPNH3NL3RSLLTCDW2WPA Dina\n",
      "7ACAHM54YPV3IPQMSA7TDNVTDZZ52D3EZMX63Z64BQW3EGIEG7WYJWH5BQ MyAlgo\n"
     ]
    }
   ],
   "source": [
    "print(Alice['public'], \"Alice\")\n",
    "print(Bob['public'], \"Bob\")\n",
    "print(Charlie['public'], \"Charlie\")\n",
    "print(Dina['public'], \"Dina\")\n",
    "print(MyAlgo['public'], \"MyAlgo\")"
   ]
  },
  {
   "cell_type": "markdown",
   "id": "5bfb6407-7fef-4d20-a6c0-85b1d5f41755",
   "metadata": {},
   "source": [
    "### Create Social Coin (ASA)"
   ]
  },
  {
   "cell_type": "code",
   "execution_count": 444,
   "id": "377d2378-0788-4339-b613-4aabb93a886a",
   "metadata": {},
   "outputs": [
    {
     "name": "stdout",
     "output_type": "stream",
     "text": [
      "Current round is  20613951.\n",
      "Waiting for round 20613951 to finish.\n",
      "Waiting for round 20613952 to finish.\n",
      "Transaction L5NTFNIYHRDUNNH4UKNNH3CQBSQ5KV52UFJ25H5YYRHTNDH2MXWA confirmed in round 20613953.\n",
      "80684006\n",
      "https://testnet.algoexplorer.io/asset/80684006\n"
     ]
    }
   ],
   "source": [
    "sp = algod_client.suggested_params()\n",
    "token_supply = 10000                             # Token supply (big units)\n",
    "token_decimals =  2                              # Digits after the comma\n",
    "token_total = token_supply * 10**token_decimals  # Specify number of SMALLER unit (\"cents\")\n",
    "\n",
    "token_name  = \"Social Security Coin\"                  # <----- YOUR NAME HERE\n",
    "token_url   = \"\"                   # <----- CHANGE if you want to\n",
    "token_unit  = \"SSC\"                              # Abbreviation, e.g. shown in Algorand Wallet app \n",
    "\n",
    "txn = AssetConfigTxn(\n",
    "    sender=MyAlgo['public'],                   # Creator of the ASA\n",
    "    sp=sp,                      \n",
    "    total=token_total,                         # Total supply in SMALL unit\n",
    "    decimals=token_decimals,                   # Decimals\n",
    "    default_frozen=False,                      # Are tokens frozen by default?\n",
    "    unit_name=token_unit,                      # Abbreviation     \n",
    "    asset_name=token_name,                     # Name\n",
    "    url=token_url,                             # URL\n",
    "    manager=MyAlgo['public'],                   # Special roles (later more)\n",
    "    reserve=MyAlgo['public'],                   # Special roles\n",
    "    freeze=MyAlgo['public'],                      # Special roles\n",
    "    clawback=MyAlgo['public']                     # Special roles\n",
    ")\n",
    "stxn = txn.sign(MyAlgo['private'])             # Sign\n",
    "txid = algod_client.send_transaction(stxn) \n",
    "txinfo = wait_for_confirmation(algod_client,txid)\n",
    "# Get the asset ID and open in Algoexplorer\n",
    "SSC_id = txinfo['asset-index'] #80679348 -> Asset index!\n",
    "print(SSC_id)\n",
    "print('https://testnet.algoexplorer.io/asset/{}'.format(SSC_id))"
   ]
  },
  {
   "cell_type": "markdown",
   "id": "56aede3c-22b0-416a-9e75-968efd40f202",
   "metadata": {},
   "source": [
    "### Create a dispenser for the Social Coin and fund it"
   ]
  },
  {
   "cell_type": "code",
   "execution_count": 457,
   "id": "ea2ad328-01a0-4ec9-ba18-49e0ef0be4b6",
   "metadata": {},
   "outputs": [
    {
     "name": "stdout",
     "output_type": "stream",
     "text": [
      "#pragma version 3\n",
      "int 926470377\n",
      "int 926470377\n",
      "==\n",
      "txn Fee\n",
      "int 1000\n",
      "<=\n",
      "&&\n",
      "txn TypeEnum\n",
      "int axfer\n",
      "==\n",
      "txn RekeyTo\n",
      "global ZeroAddress\n",
      "==\n",
      "&&\n",
      "txn XferAsset\n",
      "int 80684006\n",
      "==\n",
      "&&\n",
      "&&\n",
      "txn AssetAmount\n",
      "int 100\n",
      "<=\n",
      "&&\n",
      "return\n",
      "http://testnet.algoexplorer.io/address/ZOAMAWCZKB6HTGEQS4VRYA2YYZAA636YZYCK3CAKWL4QYNVTTGRMCL7FLY\n"
     ]
    }
   ],
   "source": [
    "import random\n",
    "from random import randrange\n",
    "\n",
    "a = Int( randrange( (2**32-1) ))\n",
    "random_cond = ( a == a )\n",
    "fee_condition =  (Txn.fee() <= Int(1000))            # Max fee is 1000micro Algos (0.001 Algos)\n",
    "other_condition = (Txn.asset_amount() <= Int(int(1e2)))   # Everyone should only be able to request less or equal 1 Social Coin\n",
    "safety_condition = And (\n",
    "        Txn.type_enum() == TxnType.AssetTransfer,          # Must be a \"Assetpayment\" transaction\n",
    "        Txn.rekey_to() == Global.zero_address(),      # Cannot change private key\n",
    "        Txn.xfer_asset() == Int(SSC_id),             # must be Social Coin                 \n",
    ")\n",
    "\n",
    "sc_dispenser_pyteal = And(\n",
    "    random_cond,fee_condition,safety_condition,other_condition\n",
    ")\n",
    "sc_dispenser_teal = compileTeal(sc_dispenser_pyteal, \n",
    "                             Mode.Signature,          # <----- Here we say it is a Smart Signature (and not a Smart Contract)\n",
    "                             version=3)\n",
    "print(sc_dispenser_teal)\n",
    "\n",
    "sc_Dispenser = algod_client.compile(sc_dispenser_teal)\n",
    "\n",
    "print('http://testnet.algoexplorer.io/address/'+sc_Dispenser['hash'])"
   ]
  },
  {
   "cell_type": "code",
   "execution_count": 458,
   "id": "f45a69ea-ec36-47f4-a86c-75962827b151",
   "metadata": {},
   "outputs": [
    {
     "name": "stdout",
     "output_type": "stream",
     "text": [
      "Current round is  20614022.\n",
      "Waiting for round 20614022 to finish.\n",
      "Waiting for round 20614023 to finish.\n",
      "Transaction VAPRY53RUDSU7XCKY4EYNF6EZNQHBPPZUUHYTJZUUG4FIQOKP43Q confirmed in round 20614024.\n"
     ]
    }
   ],
   "source": [
    "# Now we fund it first with Algo\n",
    "sp = algod_client.suggested_params()\n",
    "amt = int(1*1e6)\n",
    "txn = PaymentTxn(sender=MyAlgo['public'], sp=sp, receiver=sc_Dispenser['hash'], amt=amt )\n",
    "\n",
    "# Step 2+3: sign and sen\n",
    "stxn = txn.sign(MyAlgo['private'])\n",
    "txid = algod_client.send_transaction(stxn)\n",
    "\n",
    "# Step 4: wait for confirmation\n",
    "txinfo = wait_for_confirmation(algod_client, txid)\n"
   ]
  },
  {
   "cell_type": "code",
   "execution_count": 459,
   "id": "7761db92-0323-47fc-8ed0-c6d43b6794e7",
   "metadata": {},
   "outputs": [
    {
     "name": "stdout",
     "output_type": "stream",
     "text": [
      "Current round is  20614024.\n",
      "Waiting for round 20614024 to finish.\n",
      "Waiting for round 20614025 to finish.\n",
      "Transaction KGTHTSUIJQ5ZRLBBOUTG7QALBOUYAC5O6VBPF3BTZ4QDI4KXTUVQ confirmed in round 20614026.\n",
      "http://testnet.algoexplorer.io/tx/KGTHTSUIJQ5ZRLBBOUTG7QALBOUYAC5O6VBPF3BTZ4QDI4KXTUVQ\n"
     ]
    }
   ],
   "source": [
    "# First, the dispenser needs to opt-in\n",
    "# Steo 5.1: Prepare\n",
    "sp = algod_client.suggested_params()\n",
    "txn = AssetTransferTxn(sc_Dispenser['hash'], sp, sc_Dispenser['hash'], 0, SSC_id) # 0 Social Coin Transfer for the opt-in\n",
    "\n",
    "# Steo 5.2: Sign\n",
    "encodedProg = sc_Dispenser['result'].encode()\n",
    "program = base64.decodebytes(encodedProg)\n",
    "lsig = LogicSig(program)\n",
    "stxn = LogicSigTransaction(txn, lsig)\n",
    "\n",
    "# Step 5.3 Send\n",
    "txid = algod_client.send_transaction(stxn)\n",
    "\n",
    "# Step 5.4 Wait for ...\n",
    "txinfo = wait_for_confirmation(algod_client, txid)\n",
    "\n",
    "print('http://testnet.algoexplorer.io/tx/'+txid)"
   ]
  },
  {
   "cell_type": "code",
   "execution_count": 460,
   "id": "393b91c1-465e-471c-b142-522038b00aed",
   "metadata": {},
   "outputs": [
    {
     "name": "stdout",
     "output_type": "stream",
     "text": [
      "Current round is  20614026.\n",
      "Waiting for round 20614026 to finish.\n",
      "Waiting for round 20614027 to finish.\n",
      "Transaction PIN7F6XVCTVWH2PEV4OINWRCQUHTUMORUO5YPVBGIYGBYCTZ343A confirmed in round 20614028.\n"
     ]
    }
   ],
   "source": [
    "# Now we fund it with Social Coin\n",
    "# Step 1: prepare transaction\n",
    "sp = algod_client.suggested_params()\n",
    "amt = int(500*1e2)\n",
    "txn = AssetTransferTxn(sender=MyAlgo['public'], sp=sp, receiver=sc_Dispenser['hash'], amt=amt,index =SSC_id )\n",
    "\n",
    "# Step 2+3: sign and send\n",
    "stxn = txn.sign(MyAlgo['private'])\n",
    "txid = algod_client.send_transaction(stxn)\n",
    "\n",
    "# Step 4: wait for confirmation\n",
    "txinfo = wait_for_confirmation(algod_client, txid)"
   ]
  },
  {
   "cell_type": "code",
   "execution_count": 461,
   "id": "6a65afd4-1516-44d3-b7f6-77f2f78e8593",
   "metadata": {
    "tags": []
   },
   "outputs": [
    {
     "name": "stdout",
     "output_type": "stream",
     "text": [
      "Current round is  20614028.\n",
      "Waiting for round 20614028 to finish.\n",
      "Waiting for round 20614029 to finish.\n",
      "Transaction PFVLLOHF6NQ764CQFWV7QYW5RVPQJ3DPC2XG7SX5CTIUIICQWNPQ confirmed in round 20614030.\n"
     ]
    }
   ],
   "source": [
    "# Now Alice should own some Social Coin\n",
    "\n",
    "# First, opt-in\n",
    "sp = algod_client.suggested_params()\n",
    "\n",
    "txn = AssetTransferTxn(sender=Alice['public'], sp=sp, receiver=Alice['public'], amt=0,index =SSC_id )\n",
    "\n",
    "# Step 2+3: sign and send\n",
    "stxn = txn.sign(Alice['private'])\n",
    "txid = algod_client.send_transaction(stxn)\n",
    "\n",
    "# Step 4: wait for confirmation\n",
    "txinfo = wait_for_confirmation(algod_client, txid)\n"
   ]
  },
  {
   "cell_type": "code",
   "execution_count": 462,
   "id": "100d8b46-2caa-4674-ac16-7fda92fabd05",
   "metadata": {},
   "outputs": [
    {
     "name": "stdout",
     "output_type": "stream",
     "text": [
      "Current round is  20614030.\n",
      "Waiting for round 20614030 to finish.\n",
      "Waiting for round 20614031 to finish.\n",
      "Transaction R3PFGOPHPORT4DSITXFUXU6X73PACUI5DTT7XLBIDSQP3KAJYPXQ confirmed in round 20614032.\n"
     ]
    }
   ],
   "source": [
    "# Get Social Coin\n",
    "# Step 1: prepare TX\n",
    "sp = algod_client.suggested_params()\n",
    "withdrawal_amt = int(1*1e2)\n",
    "txn = AssetTransferTxn(sender=sc_Dispenser['hash'], sp=sp, receiver=Alice['public'], amt=withdrawal_amt, index = SSC_id)\n",
    "\n",
    "# Step 2: sign TX \n",
    "encodedProg = sc_Dispenser['result'].encode() # result is basically the program code\n",
    "program = base64.decodebytes(encodedProg)\n",
    "lsig = LogicSig(program)\n",
    "stxn = LogicSigTransaction(txn, lsig) # logic signature = smart signature\n",
    "\n",
    "# Step 3: send\n",
    "txid = algod_client.send_transaction(stxn)\n",
    "\n",
    "# Step 4: wait for confirmation\n",
    "txinfo = wait_for_confirmation(algod_client, txid)"
   ]
  },
  {
   "cell_type": "markdown",
   "id": "46e5360a-f236-421e-881f-f4815b5ec833",
   "metadata": {},
   "source": [
    "## Create an Algo dispenser with conditions"
   ]
  },
  {
   "cell_type": "code",
   "execution_count": 125,
   "id": "bbe8d8f0-4633-422e-ad43-06d46d0a52c2",
   "metadata": {
    "jupyter": {
     "source_hidden": true
    },
    "tags": []
   },
   "outputs": [],
   "source": [
    "def read_local_state(client, addr, app_id):\n",
    "    # reads a user's local state\n",
    "    # client = algod_client\n",
    "    # addr = public addr of the user that we want to inspect\n",
    "    results = client.account_info(addr)\n",
    "    for local_state in results[\"apps-local-state\"]:\n",
    "        if local_state[\"id\"] == app_id:\n",
    "            if \"key-value\" not in local_state:\n",
    "                return {}\n",
    "            return format_state(local_state[\"key-value\"])\n",
    "    return {}\n",
    "\n",
    "def read_global_state(client, app_id):\n",
    "    # reads an app's global state\n",
    "    return  algod_client.application_info(app_id)[\"params\"][\"global-state\"]\n",
    "\n",
    "def format_state(state):\n",
    "    # formats the state (local/global) nicely \n",
    "    formatted = {}\n",
    "    textvariables = {'Info','Note'}        # <---- update this! (List of Text variables in SC)\n",
    "    for item in state:\n",
    "        key = base64.b64decode(item[\"key\"]).decode(\"utf-8\")\n",
    "        value = item[\"value\"]\n",
    "        if value[\"type\"] == 1:\n",
    "            if key in textvariables:                 # Format text variables\n",
    "                formatted_value = base64.b64decode(value[\"bytes\"]).decode(\"utf-8\")\n",
    "            else:                                    # Format addresses\n",
    "                formatted_value = base64.b32encode(base64.b64decode(value[\"bytes\"]))\n",
    "            formatted[key] = formatted_value\n",
    "        else:\n",
    "            formatted[key] = value[\"uint\"]\n",
    "    return formatted"
   ]
  },
  {
   "cell_type": "code",
   "execution_count": 417,
   "id": "9ecbabbc-d405-4be9-84dc-b4bd42b69b49",
   "metadata": {},
   "outputs": [],
   "source": [
    "handle_creation =  Return( Int(1) )               # Not doing anything, returning \"OK\"  \n",
    "    \n",
    "handle_optin =  Return( Int(1) )                  # Not doing anything, returning \"OK\"  \n",
    "\n",
    "handle_closeout = Return( Int(1) )                # Not doing anything, returning \"OK\"  \n",
    "\n",
    "handle_updateapp = Return( Int(0) )               # Always FALSE ... updating not allowed\n",
    "\n",
    "handle_deleteapp = Return(\n",
    "    Txn.sender() == Global.creator_address()    # only TRUE if delete request is made by creator\n",
    ")\n",
    "#handle interaction\n",
    "socialcbalance = AssetHolding.balance(Txn.sender(),Txn.assets[0]) # preparing the social coin asset to use it in the NoOp transaction\n",
    "\n",
    "handle_noop  = Seq([socialcbalance,Assert(socialcbalance.value() > Int(0)), # check whether the user owns any Social Coin\n",
    "                    Assert(Balance(Txn.sender()) < Int(int(10*1e6))), # check whether the user holds less than 10 Algo\n",
    "                    InnerTxnBuilder.Begin(), # initiate an inner transaction\n",
    "                    InnerTxnBuilder.SetFields({ # set the necassary parameters\n",
    "                    TxnField.type_enum: TxnType.Payment, # It should be a payment transaction (we want to send Algo)\n",
    "                    TxnField.amount: Int(int(10*1e6))-Balance(Txn.sender()), # amount should be 10 Algo minus the balance of the user\n",
    "                    TxnField.receiver: Txn.sender() # The user of the contract is the transaction receiver\n",
    "                                    }),\n",
    "                    InnerTxnBuilder.Submit(), # submit the transaction\n",
    "                   Return (Int(1) )]) # return \"OK\"\n",
    "                                    \n",
    "\n",
    "\n",
    "     "
   ]
  },
  {
   "cell_type": "code",
   "execution_count": 418,
   "id": "7ca7b193-90d5-4d48-859e-e6c7d5731858",
   "metadata": {},
   "outputs": [],
   "source": [
    "algo_approval_pyteal = Cond( # Approval function\n",
    "    [Txn.application_id() == Int(0),              handle_creation],\n",
    "    [Txn.on_completion()  == OnComplete.OptIn,    handle_optin],\n",
    "    [Txn.on_completion()  == OnComplete.CloseOut, handle_closeout],\n",
    "    [Txn.on_completion()  == OnComplete.UpdateApplication, handle_updateapp],\n",
    "    [Txn.on_completion()  == OnComplete.DeleteApplication, handle_deleteapp],\n",
    "    [Txn.on_completion()  == OnComplete.NoOp, handle_noop],\n",
    ")"
   ]
  },
  {
   "cell_type": "code",
   "execution_count": 419,
   "id": "e97dc37c-95fe-4368-8492-4988890a6958",
   "metadata": {
    "tags": []
   },
   "outputs": [],
   "source": [
    "algo_approval_teal = compileTeal(algo_approval_pyteal,mode=Mode.Application, version=5) # using version 5 to allow inner tx"
   ]
  },
  {
   "cell_type": "code",
   "execution_count": 420,
   "id": "0721969a-cb9c-4981-a8f9-22bf64d92512",
   "metadata": {
    "tags": []
   },
   "outputs": [],
   "source": [
    "algo_clear_pyteal =  Return( Int(1) )  # clear function\n",
    "algo_clear_teal = compileTeal(algo_clear_pyteal,mode=Mode.Application, version=5) # compile to teal\n",
    "\n",
    "algo_approval_b64 = algod_client.compile(algo_approval_teal) \n",
    "algo_Approval =  base64.b64decode(algo_approval_b64['result'])\n",
    "\n",
    "algo_clear_b64 = algod_client.compile(algo_clear_teal)\n",
    "algo_Clear =  base64.b64decode(algo_clear_b64['result'])"
   ]
  },
  {
   "cell_type": "code",
   "execution_count": 421,
   "id": "3c7b772e-755e-49e5-b847-e38469f6a767",
   "metadata": {},
   "outputs": [
    {
     "name": "stdout",
     "output_type": "stream",
     "text": [
      "Current round is  20613442.\n",
      "Waiting for round 20613442 to finish.\n",
      "Waiting for round 20613443 to finish.\n",
      "Transaction 75QM2CL2PJYLVBVRQBCM2WUUSDDTJLNTPC3VSCC5IPQEHELIH74A confirmed in round 20613444.\n",
      "Created new app-id: 80680577\n",
      "https://testnet.algoexplorer.io/application/80680577\n"
     ]
    }
   ],
   "source": [
    "# Step 1: Prepare the transaction\n",
    "sp = algod_client.suggested_params()\n",
    "\n",
    "# How much space do we need? -> none\n",
    "global_ints = 0    # no numeric variable\n",
    "global_bytes = 0   # \n",
    "algo_global_schema = transaction.StateSchema(global_ints, global_bytes)\n",
    "\n",
    "local_ints = 0     # No local variables\n",
    "local_bytes = 0    # \n",
    "algo_local_schema = transaction.StateSchema(local_ints, local_bytes)\n",
    "\n",
    "txn = transaction.ApplicationCreateTxn(\n",
    "      sender = MyAlgo['public'],              # <-- sender public\n",
    "      sp = sp,                             # <-- sp\n",
    "      on_complete = 0,                     # <-- when finished do nothing\n",
    "      approval_program = algo_Approval,   # <-- approval program \n",
    "      clear_program = algo_Clear,         # <-- clear program \n",
    "      global_schema = algo_global_schema, # <-- reserve global space \n",
    "      local_schema = algo_local_schema,    # <-- reserve local space\n",
    "      foreign_assets = [SSC_id]           # <-- include foreign-asset 'Social Coin', to use it in the NoOp transaction\n",
    "    )\n",
    "\n",
    "# Step 2: sign transaction\n",
    "stxn = txn.sign(MyAlgo['private'])\n",
    "\n",
    "# Step 3: send\n",
    "txid=algod_client.send_transactions([stxn])\n",
    "\n",
    "# Step 4: wait for ...\n",
    "txinfo = wait_for_confirmation(algod_client, txid)\n",
    "app_id = txinfo[\"application-index\"]\n",
    "print(\"Created new app-id:\", app_id)\n",
    "print('https://testnet.algoexplorer.io/application/{}'.format(app_id))"
   ]
  },
  {
   "cell_type": "code",
   "execution_count": 422,
   "id": "170f7951-3a59-4eb2-8947-a200c553a63a",
   "metadata": {},
   "outputs": [
    {
     "name": "stdout",
     "output_type": "stream",
     "text": [
      "6UNI5OCIXXVIISQ77IFC7ZWLH4OGNOS4WSSSCKWW5F7AVXF5F3L4HLPCKY\n"
     ]
    }
   ],
   "source": [
    "app_id2 = int(app_id) # get app_id as integer\n",
    "app_addr = logic.get_application_address(app_id2) # get the public address of the smart contract\n",
    "print(app_addr)"
   ]
  },
  {
   "cell_type": "markdown",
   "id": "4d78c21d-83ad-4eea-b30e-f72cc19935b2",
   "metadata": {},
   "source": [
    "## Sending some Algo to fund the Smart Contract\n",
    "### This step is not necassary if funding is done by a dispenser!"
   ]
  },
  {
   "cell_type": "code",
   "execution_count": 423,
   "id": "228a1b15-eb70-4bee-a767-c72fa85c4a2b",
   "metadata": {},
   "outputs": [
    {
     "name": "stdout",
     "output_type": "stream",
     "text": [
      "Current round is  20613444.\n",
      "Waiting for round 20613444 to finish.\n",
      "Waiting for round 20613445 to finish.\n",
      "Transaction WMS7XCAL5NO33BBJ5KQLH6TUVMJ7XI23LLHWS5N4KQIVADRUDX2A confirmed in round 20613446.\n"
     ]
    }
   ],
   "source": [
    "sp       = algod_client.suggested_params()       # suggested params\n",
    "amount   = 3\n",
    "algo_precision = 1e6\n",
    "amt_microalgo = int(amount * algo_precision)\n",
    "\n",
    "txn = PaymentTxn(sender = MyAlgo['public'],     # <--- From\n",
    "                 sp = sp, \n",
    "                 receiver = app_addr,      # <---- To\n",
    "                 amt = amt_microalgo            # <---- Amount in Micro-ALGOs\n",
    "                )\n",
    "\n",
    "# Step 2: sign\n",
    "stxn = txn.sign(MyAlgo['private']) \n",
    "\n",
    "# Step 3: send\n",
    "txid = algod_client.send_transaction(stxn)\n",
    "\n",
    "# Step 4: Wait for confirmation\n",
    "txinfo = wait_for_confirmation(algod_client, txid)"
   ]
  },
  {
   "cell_type": "markdown",
   "id": "e95536a0-3a3c-437f-ad32-13160c661693",
   "metadata": {},
   "source": [
    "### Let the users opt-in to the smart contract"
   ]
  },
  {
   "cell_type": "code",
   "execution_count": 424,
   "id": "10d7700b-62b9-4964-9f38-f0573e31bd30",
   "metadata": {
    "tags": []
   },
   "outputs": [
    {
     "name": "stdout",
     "output_type": "stream",
     "text": [
      "Current round is  20613446.\n",
      "Waiting for round 20613446 to finish.\n",
      "Waiting for round 20613447 to finish.\n",
      "Transaction XNAFWZMXVGU3K4HRAJPJBGMUMTTW73L2VOOGDZYPZY725GLTTBBA confirmed in round 20613448.\n",
      "Current round is  20613448.\n",
      "Waiting for round 20613448 to finish.\n",
      "Waiting for round 20613449 to finish.\n",
      "Transaction JHC25VF2Q5Y6422M36XNOXALCL2XXZXJHDL2ZWTRCPDR7Y6FO2KA confirmed in round 20613450.\n",
      "Current round is  20613450.\n",
      "Waiting for round 20613450 to finish.\n",
      "Waiting for round 20613451 to finish.\n",
      "Transaction TPRR3D2LWQRWEA5LXXCVO4NR2ITZQII522SV4QWNQHPQRTT3NX2Q confirmed in round 20613452.\n",
      "Current round is  20613452.\n",
      "Waiting for round 20613452 to finish.\n",
      "Waiting for round 20613453 to finish.\n",
      "Transaction IKLJ6NYVMMDSQ6CQS63BFIPLFVEM5XKACQS44GCYIZC4Z4HNTPSQ confirmed in round 20613454.\n",
      "Current round is  20613454.\n",
      "Waiting for round 20613454 to finish.\n",
      "Waiting for round 20613455 to finish.\n",
      "Transaction 6WSMAGTI3YVCVEZLKMEWXRSXQYCM7OAYGWN5LB2SRFRCZYEC6BGQ confirmed in round 20613456.\n"
     ]
    }
   ],
   "source": [
    "users = [Alice,Bob,Charlie,Dina,MyAlgo]\n",
    "\n",
    "for user in users: # iterate for every user\n",
    "# Step 1: prepare transaction\n",
    "    sp = algod_client.suggested_params()\n",
    "    txn = transaction.ApplicationOptInTxn(user['public'], sp, app_id,foreign_assets=[SSC_id])\n",
    "\n",
    "# Step 2: sign transaction\n",
    "    stxn = txn.sign(user['private'])\n",
    "\n",
    "# Step 3: send\n",
    "    txid = algod_client.send_transactions([stxn])\n",
    "\n",
    "# Step 4: await confirmation\n",
    "    txinfo = wait_for_confirmation(algod_client, txid)"
   ]
  }
 ],
 "metadata": {
  "kernelspec": {
   "display_name": "Python 3 (ipykernel)",
   "language": "python",
   "name": "python3"
  },
  "language_info": {
   "codemirror_mode": {
    "name": "ipython",
    "version": 3
   },
   "file_extension": ".py",
   "mimetype": "text/x-python",
   "name": "python",
   "nbconvert_exporter": "python",
   "pygments_lexer": "ipython3",
   "version": "3.8.12"
  }
 },
 "nbformat": 4,
 "nbformat_minor": 5
}
