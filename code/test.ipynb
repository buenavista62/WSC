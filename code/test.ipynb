{
 "cells": [
  {
   "cell_type": "markdown",
   "id": "b088d034",
   "metadata": {
    "tags": []
   },
   "source": [
    "## Social Security - Testing\n",
    "####  Winter School on Smart Contracts\n",
    "##### Sercan Ates, 15-917-024\n",
    "2022-04-02\n"
   ]
  },
  {
   "cell_type": "code",
   "execution_count": 66,
   "id": "f97304c7-800c-44a1-9d00-3246facc5e6b",
   "metadata": {
    "tags": []
   },
   "outputs": [],
   "source": [
    "# Loading shared code and credentials\n",
    "import sys, os\n",
    "codepath = '..'+os.path.sep+'..'+os.path.sep+'sharedCode'\n",
    "sys.path.append(codepath)\n",
    "from algo_util import *\n",
    "cred = load_credentials()\n",
    "MyAlgo  = cred['MyAlgo']\n",
    "Alice   = cred['Alice']\n",
    "Bob     = cred['Bob']\n",
    "Charlie = cred['Charlie']\n",
    "Dina    = cred['Dina']"
   ]
  },
  {
   "cell_type": "code",
   "execution_count": 67,
   "id": "03a8773f-a6a3-4120-9a7f-8479af42d8fa",
   "metadata": {
    "tags": []
   },
   "outputs": [],
   "source": [
    "from algosdk import account, mnemonic, encoding, logic\n",
    "from algosdk.v2client import algod\n",
    "from algosdk.future import transaction\n",
    "from algosdk.future.transaction import PaymentTxn\n",
    "from algosdk.future.transaction import AssetConfigTxn, AssetTransferTxn, AssetFreezeTxn, LogicSig, LogicSigTransaction\n",
    "import algosdk.error\n",
    "import json\n",
    "import base64\n",
    "import datetime"
   ]
  },
  {
   "cell_type": "code",
   "execution_count": 68,
   "id": "a349b965-f8e5-4385-b095-8adea2d7c93d",
   "metadata": {
    "tags": []
   },
   "outputs": [],
   "source": [
    "from pyteal import *"
   ]
  },
  {
   "cell_type": "code",
   "execution_count": 69,
   "id": "f74bbe16-50b9-4e8e-995d-7c8b0d48471b",
   "metadata": {
    "tags": []
   },
   "outputs": [
    {
     "name": "stdout",
     "output_type": "stream",
     "text": [
      "Last committed block is: 20613463\n"
     ]
    }
   ],
   "source": [
    "# Initialize the algod client (Testnet or Mainnet)\n",
    "algod_client = algod.AlgodClient(algod_token='', algod_address=cred['algod_test'], headers=cred['purestake_token'])\n",
    "last_block = algod_client.status()[\"last-round\"]\n",
    "print(f\"Last committed block is: {last_block}\")"
   ]
  },
  {
   "cell_type": "code",
   "execution_count": 70,
   "id": "e0176907-91af-4bba-9cf0-5586ac7fcbe3",
   "metadata": {
    "jupyter": {
     "source_hidden": true
    },
    "tags": []
   },
   "outputs": [
    {
     "name": "stdout",
     "output_type": "stream",
     "text": [
      "V7BJQQBHMT5WHI5Z3NBUME4KXSRDZIP4BC6I5XMRBW63MYHUAGP5CQJXDI Alice\n",
      "G6CQ6JO37JFGQBIW5IPP2OYWRN2XWGKQY4IXQ3SRNQC73ZTPCPLT6NNTPY Bob\n",
      "DG2OLFAF5MK6VJP4L3C42FFBMHJ3JSUUKVQHVKBHDFLQA4O6OEKVKSRS3U Charlie\n",
      "25UUED44Z2EUVCAFZUOC33LTJDE5C6ZI3UGDZPVPNH3NL3RSLLTCDW2WPA Dina\n",
      "7ACAHM54YPV3IPQMSA7TDNVTDZZ52D3EZMX63Z64BQW3EGIEG7WYJWH5BQ MyAlgo\n"
     ]
    }
   ],
   "source": [
    "print(Alice['public'], \"Alice\")\n",
    "print(Bob['public'], \"Bob\")\n",
    "print(Charlie['public'], \"Charlie\")\n",
    "print(Dina['public'], \"Dina\")\n",
    "print(MyAlgo['public'], \"MyAlgo\")"
   ]
  },
  {
   "cell_type": "code",
   "execution_count": 71,
   "id": "717368a5-d19d-4f42-900e-6fba3f926804",
   "metadata": {
    "tags": []
   },
   "outputs": [],
   "source": [
    "algod_client.account_info(MyAlgo[\"public\"])[\"amount\"]/1e6\n",
    "app_id =\"80680577\" # change this if you create a new smart contract!\n",
    "app_id2 = 80680577 # change this if you create a new smart contract!\n",
    "logic.get_application_address(app_id2)\n",
    "SSC_id = 80679348 # change this if you create a new ASA!"
   ]
  },
  {
   "cell_type": "code",
   "execution_count": 75,
   "id": "1bbb0e5b-6733-4163-a30e-dfde3fbfbd4e",
   "metadata": {
    "tags": []
   },
   "outputs": [
    {
     "ename": "AlgodHTTPError",
     "evalue": "TransactionPool.Remember: transaction SSEUFM75YCSVA6WF545DWHODDXKZKTKBQP5ZBKWWHQNEK6WCSJDA: logic eval error: invalid Assets index 0. Details: pc=57, opcodes=err\nlabel6:\ntxn Sender\ntxna Assets 0\n",
     "output_type": "error",
     "traceback": [
      "\u001b[1;31m---------------------------------------------------------------------------\u001b[0m",
      "\u001b[1;31mHTTPError\u001b[0m                                 Traceback (most recent call last)",
      "\u001b[1;32m~\\anaconda3\\lib\\site-packages\\algosdk\\v2client\\algod.py\u001b[0m in \u001b[0;36malgod_request\u001b[1;34m(self, method, requrl, params, data, headers, response_format)\u001b[0m\n\u001b[0;32m     81\u001b[0m         \u001b[1;32mtry\u001b[0m\u001b[1;33m:\u001b[0m\u001b[1;33m\u001b[0m\u001b[1;33m\u001b[0m\u001b[0m\n\u001b[1;32m---> 82\u001b[1;33m             \u001b[0mresp\u001b[0m \u001b[1;33m=\u001b[0m \u001b[0murlopen\u001b[0m\u001b[1;33m(\u001b[0m\u001b[0mreq\u001b[0m\u001b[1;33m)\u001b[0m\u001b[1;33m\u001b[0m\u001b[1;33m\u001b[0m\u001b[0m\n\u001b[0m\u001b[0;32m     83\u001b[0m         \u001b[1;32mexcept\u001b[0m \u001b[0murllib\u001b[0m\u001b[1;33m.\u001b[0m\u001b[0merror\u001b[0m\u001b[1;33m.\u001b[0m\u001b[0mHTTPError\u001b[0m \u001b[1;32mas\u001b[0m \u001b[0me\u001b[0m\u001b[1;33m:\u001b[0m\u001b[1;33m\u001b[0m\u001b[1;33m\u001b[0m\u001b[0m\n",
      "\u001b[1;32m~\\anaconda3\\lib\\urllib\\request.py\u001b[0m in \u001b[0;36murlopen\u001b[1;34m(url, data, timeout, cafile, capath, cadefault, context)\u001b[0m\n\u001b[0;32m    221\u001b[0m         \u001b[0mopener\u001b[0m \u001b[1;33m=\u001b[0m \u001b[0m_opener\u001b[0m\u001b[1;33m\u001b[0m\u001b[1;33m\u001b[0m\u001b[0m\n\u001b[1;32m--> 222\u001b[1;33m     \u001b[1;32mreturn\u001b[0m \u001b[0mopener\u001b[0m\u001b[1;33m.\u001b[0m\u001b[0mopen\u001b[0m\u001b[1;33m(\u001b[0m\u001b[0murl\u001b[0m\u001b[1;33m,\u001b[0m \u001b[0mdata\u001b[0m\u001b[1;33m,\u001b[0m \u001b[0mtimeout\u001b[0m\u001b[1;33m)\u001b[0m\u001b[1;33m\u001b[0m\u001b[1;33m\u001b[0m\u001b[0m\n\u001b[0m\u001b[0;32m    223\u001b[0m \u001b[1;33m\u001b[0m\u001b[0m\n",
      "\u001b[1;32m~\\anaconda3\\lib\\urllib\\request.py\u001b[0m in \u001b[0;36mopen\u001b[1;34m(self, fullurl, data, timeout)\u001b[0m\n\u001b[0;32m    530\u001b[0m             \u001b[0mmeth\u001b[0m \u001b[1;33m=\u001b[0m \u001b[0mgetattr\u001b[0m\u001b[1;33m(\u001b[0m\u001b[0mprocessor\u001b[0m\u001b[1;33m,\u001b[0m \u001b[0mmeth_name\u001b[0m\u001b[1;33m)\u001b[0m\u001b[1;33m\u001b[0m\u001b[1;33m\u001b[0m\u001b[0m\n\u001b[1;32m--> 531\u001b[1;33m             \u001b[0mresponse\u001b[0m \u001b[1;33m=\u001b[0m \u001b[0mmeth\u001b[0m\u001b[1;33m(\u001b[0m\u001b[0mreq\u001b[0m\u001b[1;33m,\u001b[0m \u001b[0mresponse\u001b[0m\u001b[1;33m)\u001b[0m\u001b[1;33m\u001b[0m\u001b[1;33m\u001b[0m\u001b[0m\n\u001b[0m\u001b[0;32m    532\u001b[0m \u001b[1;33m\u001b[0m\u001b[0m\n",
      "\u001b[1;32m~\\anaconda3\\lib\\urllib\\request.py\u001b[0m in \u001b[0;36mhttp_response\u001b[1;34m(self, request, response)\u001b[0m\n\u001b[0;32m    639\u001b[0m         \u001b[1;32mif\u001b[0m \u001b[1;32mnot\u001b[0m \u001b[1;33m(\u001b[0m\u001b[1;36m200\u001b[0m \u001b[1;33m<=\u001b[0m \u001b[0mcode\u001b[0m \u001b[1;33m<\u001b[0m \u001b[1;36m300\u001b[0m\u001b[1;33m)\u001b[0m\u001b[1;33m:\u001b[0m\u001b[1;33m\u001b[0m\u001b[1;33m\u001b[0m\u001b[0m\n\u001b[1;32m--> 640\u001b[1;33m             response = self.parent.error(\n\u001b[0m\u001b[0;32m    641\u001b[0m                 'http', request, response, code, msg, hdrs)\n",
      "\u001b[1;32m~\\anaconda3\\lib\\urllib\\request.py\u001b[0m in \u001b[0;36merror\u001b[1;34m(self, proto, *args)\u001b[0m\n\u001b[0;32m    568\u001b[0m             \u001b[0margs\u001b[0m \u001b[1;33m=\u001b[0m \u001b[1;33m(\u001b[0m\u001b[0mdict\u001b[0m\u001b[1;33m,\u001b[0m \u001b[1;34m'default'\u001b[0m\u001b[1;33m,\u001b[0m \u001b[1;34m'http_error_default'\u001b[0m\u001b[1;33m)\u001b[0m \u001b[1;33m+\u001b[0m \u001b[0morig_args\u001b[0m\u001b[1;33m\u001b[0m\u001b[1;33m\u001b[0m\u001b[0m\n\u001b[1;32m--> 569\u001b[1;33m             \u001b[1;32mreturn\u001b[0m \u001b[0mself\u001b[0m\u001b[1;33m.\u001b[0m\u001b[0m_call_chain\u001b[0m\u001b[1;33m(\u001b[0m\u001b[1;33m*\u001b[0m\u001b[0margs\u001b[0m\u001b[1;33m)\u001b[0m\u001b[1;33m\u001b[0m\u001b[1;33m\u001b[0m\u001b[0m\n\u001b[0m\u001b[0;32m    570\u001b[0m \u001b[1;33m\u001b[0m\u001b[0m\n",
      "\u001b[1;32m~\\anaconda3\\lib\\urllib\\request.py\u001b[0m in \u001b[0;36m_call_chain\u001b[1;34m(self, chain, kind, meth_name, *args)\u001b[0m\n\u001b[0;32m    501\u001b[0m             \u001b[0mfunc\u001b[0m \u001b[1;33m=\u001b[0m \u001b[0mgetattr\u001b[0m\u001b[1;33m(\u001b[0m\u001b[0mhandler\u001b[0m\u001b[1;33m,\u001b[0m \u001b[0mmeth_name\u001b[0m\u001b[1;33m)\u001b[0m\u001b[1;33m\u001b[0m\u001b[1;33m\u001b[0m\u001b[0m\n\u001b[1;32m--> 502\u001b[1;33m             \u001b[0mresult\u001b[0m \u001b[1;33m=\u001b[0m \u001b[0mfunc\u001b[0m\u001b[1;33m(\u001b[0m\u001b[1;33m*\u001b[0m\u001b[0margs\u001b[0m\u001b[1;33m)\u001b[0m\u001b[1;33m\u001b[0m\u001b[1;33m\u001b[0m\u001b[0m\n\u001b[0m\u001b[0;32m    503\u001b[0m             \u001b[1;32mif\u001b[0m \u001b[0mresult\u001b[0m \u001b[1;32mis\u001b[0m \u001b[1;32mnot\u001b[0m \u001b[1;32mNone\u001b[0m\u001b[1;33m:\u001b[0m\u001b[1;33m\u001b[0m\u001b[1;33m\u001b[0m\u001b[0m\n",
      "\u001b[1;32m~\\anaconda3\\lib\\urllib\\request.py\u001b[0m in \u001b[0;36mhttp_error_default\u001b[1;34m(self, req, fp, code, msg, hdrs)\u001b[0m\n\u001b[0;32m    648\u001b[0m     \u001b[1;32mdef\u001b[0m \u001b[0mhttp_error_default\u001b[0m\u001b[1;33m(\u001b[0m\u001b[0mself\u001b[0m\u001b[1;33m,\u001b[0m \u001b[0mreq\u001b[0m\u001b[1;33m,\u001b[0m \u001b[0mfp\u001b[0m\u001b[1;33m,\u001b[0m \u001b[0mcode\u001b[0m\u001b[1;33m,\u001b[0m \u001b[0mmsg\u001b[0m\u001b[1;33m,\u001b[0m \u001b[0mhdrs\u001b[0m\u001b[1;33m)\u001b[0m\u001b[1;33m:\u001b[0m\u001b[1;33m\u001b[0m\u001b[1;33m\u001b[0m\u001b[0m\n\u001b[1;32m--> 649\u001b[1;33m         \u001b[1;32mraise\u001b[0m \u001b[0mHTTPError\u001b[0m\u001b[1;33m(\u001b[0m\u001b[0mreq\u001b[0m\u001b[1;33m.\u001b[0m\u001b[0mfull_url\u001b[0m\u001b[1;33m,\u001b[0m \u001b[0mcode\u001b[0m\u001b[1;33m,\u001b[0m \u001b[0mmsg\u001b[0m\u001b[1;33m,\u001b[0m \u001b[0mhdrs\u001b[0m\u001b[1;33m,\u001b[0m \u001b[0mfp\u001b[0m\u001b[1;33m)\u001b[0m\u001b[1;33m\u001b[0m\u001b[1;33m\u001b[0m\u001b[0m\n\u001b[0m\u001b[0;32m    650\u001b[0m \u001b[1;33m\u001b[0m\u001b[0m\n",
      "\u001b[1;31mHTTPError\u001b[0m: HTTP Error 400: Bad Request",
      "\nDuring handling of the above exception, another exception occurred:\n",
      "\u001b[1;31mAlgodHTTPError\u001b[0m                            Traceback (most recent call last)",
      "\u001b[1;32m~\\AppData\\Local\\Temp/ipykernel_44748/4154693028.py\u001b[0m in \u001b[0;36m<module>\u001b[1;34m\u001b[0m\n\u001b[0;32m      8\u001b[0m \u001b[1;33m\u001b[0m\u001b[0m\n\u001b[0;32m      9\u001b[0m \u001b[1;31m# Step 3: send\u001b[0m\u001b[1;33m\u001b[0m\u001b[1;33m\u001b[0m\u001b[1;33m\u001b[0m\u001b[0m\n\u001b[1;32m---> 10\u001b[1;33m \u001b[0mtxid\u001b[0m \u001b[1;33m=\u001b[0m \u001b[0malgod_client\u001b[0m\u001b[1;33m.\u001b[0m\u001b[0msend_transactions\u001b[0m\u001b[1;33m(\u001b[0m\u001b[1;33m[\u001b[0m\u001b[0mstxn\u001b[0m\u001b[1;33m]\u001b[0m\u001b[1;33m)\u001b[0m\u001b[1;33m\u001b[0m\u001b[1;33m\u001b[0m\u001b[0m\n\u001b[0m\u001b[0;32m     11\u001b[0m \u001b[1;33m\u001b[0m\u001b[0m\n\u001b[0;32m     12\u001b[0m \u001b[1;31m# Step 4: wait for condfirmation\u001b[0m\u001b[1;33m\u001b[0m\u001b[1;33m\u001b[0m\u001b[1;33m\u001b[0m\u001b[0m\n",
      "\u001b[1;32m~\\anaconda3\\lib\\site-packages\\algosdk\\v2client\\algod.py\u001b[0m in \u001b[0;36msend_transactions\u001b[1;34m(self, txns, **kwargs)\u001b[0m\n\u001b[0;32m    305\u001b[0m             \u001b[0mserialized\u001b[0m\u001b[1;33m.\u001b[0m\u001b[0mappend\u001b[0m\u001b[1;33m(\u001b[0m\u001b[0mbase64\u001b[0m\u001b[1;33m.\u001b[0m\u001b[0mb64decode\u001b[0m\u001b[1;33m(\u001b[0m\u001b[0mencoding\u001b[0m\u001b[1;33m.\u001b[0m\u001b[0mmsgpack_encode\u001b[0m\u001b[1;33m(\u001b[0m\u001b[0mtxn\u001b[0m\u001b[1;33m)\u001b[0m\u001b[1;33m)\u001b[0m\u001b[1;33m)\u001b[0m\u001b[1;33m\u001b[0m\u001b[1;33m\u001b[0m\u001b[0m\n\u001b[0;32m    306\u001b[0m \u001b[1;33m\u001b[0m\u001b[0m\n\u001b[1;32m--> 307\u001b[1;33m         return self.send_raw_transaction(\n\u001b[0m\u001b[0;32m    308\u001b[0m             \u001b[0mbase64\u001b[0m\u001b[1;33m.\u001b[0m\u001b[0mb64encode\u001b[0m\u001b[1;33m(\u001b[0m\u001b[1;34mb\"\"\u001b[0m\u001b[1;33m.\u001b[0m\u001b[0mjoin\u001b[0m\u001b[1;33m(\u001b[0m\u001b[0mserialized\u001b[0m\u001b[1;33m)\u001b[0m\u001b[1;33m)\u001b[0m\u001b[1;33m,\u001b[0m \u001b[1;33m**\u001b[0m\u001b[0mkwargs\u001b[0m\u001b[1;33m\u001b[0m\u001b[1;33m\u001b[0m\u001b[0m\n\u001b[0;32m    309\u001b[0m         )\n",
      "\u001b[1;32m~\\anaconda3\\lib\\site-packages\\algosdk\\v2client\\algod.py\u001b[0m in \u001b[0;36msend_raw_transaction\u001b[1;34m(self, txn, **kwargs)\u001b[0m\n\u001b[0;32m    235\u001b[0m         \u001b[0mkwargs\u001b[0m\u001b[1;33m[\u001b[0m\u001b[1;34m\"headers\"\u001b[0m\u001b[1;33m]\u001b[0m \u001b[1;33m=\u001b[0m \u001b[0mheaders\u001b[0m\u001b[1;33m\u001b[0m\u001b[1;33m\u001b[0m\u001b[0m\n\u001b[0;32m    236\u001b[0m \u001b[1;33m\u001b[0m\u001b[0m\n\u001b[1;32m--> 237\u001b[1;33m         \u001b[1;32mreturn\u001b[0m \u001b[0mself\u001b[0m\u001b[1;33m.\u001b[0m\u001b[0malgod_request\u001b[0m\u001b[1;33m(\u001b[0m\u001b[1;34m\"POST\"\u001b[0m\u001b[1;33m,\u001b[0m \u001b[0mreq\u001b[0m\u001b[1;33m,\u001b[0m \u001b[0mdata\u001b[0m\u001b[1;33m=\u001b[0m\u001b[0mtxn\u001b[0m\u001b[1;33m,\u001b[0m \u001b[1;33m**\u001b[0m\u001b[0mkwargs\u001b[0m\u001b[1;33m)\u001b[0m\u001b[1;33m[\u001b[0m\u001b[1;34m\"txId\"\u001b[0m\u001b[1;33m]\u001b[0m\u001b[1;33m\u001b[0m\u001b[1;33m\u001b[0m\u001b[0m\n\u001b[0m\u001b[0;32m    238\u001b[0m \u001b[1;33m\u001b[0m\u001b[0m\n\u001b[0;32m    239\u001b[0m     def pending_transactions(\n",
      "\u001b[1;32m~\\anaconda3\\lib\\site-packages\\algosdk\\v2client\\algod.py\u001b[0m in \u001b[0;36malgod_request\u001b[1;34m(self, method, requrl, params, data, headers, response_format)\u001b[0m\n\u001b[0;32m     87\u001b[0m                 \u001b[0me\u001b[0m \u001b[1;33m=\u001b[0m \u001b[0mjson\u001b[0m\u001b[1;33m.\u001b[0m\u001b[0mloads\u001b[0m\u001b[1;33m(\u001b[0m\u001b[0me\u001b[0m\u001b[1;33m)\u001b[0m\u001b[1;33m[\u001b[0m\u001b[1;34m\"message\"\u001b[0m\u001b[1;33m]\u001b[0m\u001b[1;33m\u001b[0m\u001b[1;33m\u001b[0m\u001b[0m\n\u001b[0;32m     88\u001b[0m             \u001b[1;32mfinally\u001b[0m\u001b[1;33m:\u001b[0m\u001b[1;33m\u001b[0m\u001b[1;33m\u001b[0m\u001b[0m\n\u001b[1;32m---> 89\u001b[1;33m                 \u001b[1;32mraise\u001b[0m \u001b[0merror\u001b[0m\u001b[1;33m.\u001b[0m\u001b[0mAlgodHTTPError\u001b[0m\u001b[1;33m(\u001b[0m\u001b[0me\u001b[0m\u001b[1;33m,\u001b[0m \u001b[0mcode\u001b[0m\u001b[1;33m)\u001b[0m\u001b[1;33m\u001b[0m\u001b[1;33m\u001b[0m\u001b[0m\n\u001b[0m\u001b[0;32m     90\u001b[0m         \u001b[1;32mif\u001b[0m \u001b[0mresponse_format\u001b[0m \u001b[1;33m==\u001b[0m \u001b[1;34m\"json\"\u001b[0m\u001b[1;33m:\u001b[0m\u001b[1;33m\u001b[0m\u001b[1;33m\u001b[0m\u001b[0m\n\u001b[0;32m     91\u001b[0m             \u001b[1;32mtry\u001b[0m\u001b[1;33m:\u001b[0m\u001b[1;33m\u001b[0m\u001b[1;33m\u001b[0m\u001b[0m\n",
      "\u001b[1;31mAlgodHTTPError\u001b[0m: TransactionPool.Remember: transaction SSEUFM75YCSVA6WF545DWHODDXKZKTKBQP5ZBKWWHQNEK6WCSJDA: logic eval error: invalid Assets index 0. Details: pc=57, opcodes=err\nlabel6:\ntxn Sender\ntxna Assets 0\n"
     ]
    }
   ],
   "source": [
    "user = Alice\n",
    "# Step 1: prepare\n",
    "sp = algod_client.suggested_params()\n",
    "txn = transaction.ApplicationNoOpTxn(user['public'], sp, app_id)\n",
    "\n",
    "# Step 2: sign\n",
    "stxn = txn.sign(user['private'])\n",
    "\n",
    "# Step 3: send\n",
    "txid = algod_client.send_transactions([stxn])\n",
    "\n",
    "# Step 4: wait for condfirmation\n",
    "txinfo = wait_for_confirmation(algod_client, txid)"
   ]
  },
  {
   "cell_type": "code",
   "execution_count": 76,
   "id": "1b3d9f85-2b29-4be2-b326-f0108666cbe0",
   "metadata": {},
   "outputs": [
    {
     "ename": "AlgodHTTPError",
     "evalue": "TransactionPool.Remember: transaction KWJJYYA6X5DSP2PR3NZEUUJA54UCXS2FYMT6QVDP4QDAAS3KKUEQ: logic eval error: assert failed pc=70. Details: pc=70, opcodes=intc_1 // 0\n>\nassert\n",
     "output_type": "error",
     "traceback": [
      "\u001b[1;31m---------------------------------------------------------------------------\u001b[0m",
      "\u001b[1;31mHTTPError\u001b[0m                                 Traceback (most recent call last)",
      "\u001b[1;32m~\\anaconda3\\lib\\site-packages\\algosdk\\v2client\\algod.py\u001b[0m in \u001b[0;36malgod_request\u001b[1;34m(self, method, requrl, params, data, headers, response_format)\u001b[0m\n\u001b[0;32m     81\u001b[0m         \u001b[1;32mtry\u001b[0m\u001b[1;33m:\u001b[0m\u001b[1;33m\u001b[0m\u001b[1;33m\u001b[0m\u001b[0m\n\u001b[1;32m---> 82\u001b[1;33m             \u001b[0mresp\u001b[0m \u001b[1;33m=\u001b[0m \u001b[0murlopen\u001b[0m\u001b[1;33m(\u001b[0m\u001b[0mreq\u001b[0m\u001b[1;33m)\u001b[0m\u001b[1;33m\u001b[0m\u001b[1;33m\u001b[0m\u001b[0m\n\u001b[0m\u001b[0;32m     83\u001b[0m         \u001b[1;32mexcept\u001b[0m \u001b[0murllib\u001b[0m\u001b[1;33m.\u001b[0m\u001b[0merror\u001b[0m\u001b[1;33m.\u001b[0m\u001b[0mHTTPError\u001b[0m \u001b[1;32mas\u001b[0m \u001b[0me\u001b[0m\u001b[1;33m:\u001b[0m\u001b[1;33m\u001b[0m\u001b[1;33m\u001b[0m\u001b[0m\n",
      "\u001b[1;32m~\\anaconda3\\lib\\urllib\\request.py\u001b[0m in \u001b[0;36murlopen\u001b[1;34m(url, data, timeout, cafile, capath, cadefault, context)\u001b[0m\n\u001b[0;32m    221\u001b[0m         \u001b[0mopener\u001b[0m \u001b[1;33m=\u001b[0m \u001b[0m_opener\u001b[0m\u001b[1;33m\u001b[0m\u001b[1;33m\u001b[0m\u001b[0m\n\u001b[1;32m--> 222\u001b[1;33m     \u001b[1;32mreturn\u001b[0m \u001b[0mopener\u001b[0m\u001b[1;33m.\u001b[0m\u001b[0mopen\u001b[0m\u001b[1;33m(\u001b[0m\u001b[0murl\u001b[0m\u001b[1;33m,\u001b[0m \u001b[0mdata\u001b[0m\u001b[1;33m,\u001b[0m \u001b[0mtimeout\u001b[0m\u001b[1;33m)\u001b[0m\u001b[1;33m\u001b[0m\u001b[1;33m\u001b[0m\u001b[0m\n\u001b[0m\u001b[0;32m    223\u001b[0m \u001b[1;33m\u001b[0m\u001b[0m\n",
      "\u001b[1;32m~\\anaconda3\\lib\\urllib\\request.py\u001b[0m in \u001b[0;36mopen\u001b[1;34m(self, fullurl, data, timeout)\u001b[0m\n\u001b[0;32m    530\u001b[0m             \u001b[0mmeth\u001b[0m \u001b[1;33m=\u001b[0m \u001b[0mgetattr\u001b[0m\u001b[1;33m(\u001b[0m\u001b[0mprocessor\u001b[0m\u001b[1;33m,\u001b[0m \u001b[0mmeth_name\u001b[0m\u001b[1;33m)\u001b[0m\u001b[1;33m\u001b[0m\u001b[1;33m\u001b[0m\u001b[0m\n\u001b[1;32m--> 531\u001b[1;33m             \u001b[0mresponse\u001b[0m \u001b[1;33m=\u001b[0m \u001b[0mmeth\u001b[0m\u001b[1;33m(\u001b[0m\u001b[0mreq\u001b[0m\u001b[1;33m,\u001b[0m \u001b[0mresponse\u001b[0m\u001b[1;33m)\u001b[0m\u001b[1;33m\u001b[0m\u001b[1;33m\u001b[0m\u001b[0m\n\u001b[0m\u001b[0;32m    532\u001b[0m \u001b[1;33m\u001b[0m\u001b[0m\n",
      "\u001b[1;32m~\\anaconda3\\lib\\urllib\\request.py\u001b[0m in \u001b[0;36mhttp_response\u001b[1;34m(self, request, response)\u001b[0m\n\u001b[0;32m    639\u001b[0m         \u001b[1;32mif\u001b[0m \u001b[1;32mnot\u001b[0m \u001b[1;33m(\u001b[0m\u001b[1;36m200\u001b[0m \u001b[1;33m<=\u001b[0m \u001b[0mcode\u001b[0m \u001b[1;33m<\u001b[0m \u001b[1;36m300\u001b[0m\u001b[1;33m)\u001b[0m\u001b[1;33m:\u001b[0m\u001b[1;33m\u001b[0m\u001b[1;33m\u001b[0m\u001b[0m\n\u001b[1;32m--> 640\u001b[1;33m             response = self.parent.error(\n\u001b[0m\u001b[0;32m    641\u001b[0m                 'http', request, response, code, msg, hdrs)\n",
      "\u001b[1;32m~\\anaconda3\\lib\\urllib\\request.py\u001b[0m in \u001b[0;36merror\u001b[1;34m(self, proto, *args)\u001b[0m\n\u001b[0;32m    568\u001b[0m             \u001b[0margs\u001b[0m \u001b[1;33m=\u001b[0m \u001b[1;33m(\u001b[0m\u001b[0mdict\u001b[0m\u001b[1;33m,\u001b[0m \u001b[1;34m'default'\u001b[0m\u001b[1;33m,\u001b[0m \u001b[1;34m'http_error_default'\u001b[0m\u001b[1;33m)\u001b[0m \u001b[1;33m+\u001b[0m \u001b[0morig_args\u001b[0m\u001b[1;33m\u001b[0m\u001b[1;33m\u001b[0m\u001b[0m\n\u001b[1;32m--> 569\u001b[1;33m             \u001b[1;32mreturn\u001b[0m \u001b[0mself\u001b[0m\u001b[1;33m.\u001b[0m\u001b[0m_call_chain\u001b[0m\u001b[1;33m(\u001b[0m\u001b[1;33m*\u001b[0m\u001b[0margs\u001b[0m\u001b[1;33m)\u001b[0m\u001b[1;33m\u001b[0m\u001b[1;33m\u001b[0m\u001b[0m\n\u001b[0m\u001b[0;32m    570\u001b[0m \u001b[1;33m\u001b[0m\u001b[0m\n",
      "\u001b[1;32m~\\anaconda3\\lib\\urllib\\request.py\u001b[0m in \u001b[0;36m_call_chain\u001b[1;34m(self, chain, kind, meth_name, *args)\u001b[0m\n\u001b[0;32m    501\u001b[0m             \u001b[0mfunc\u001b[0m \u001b[1;33m=\u001b[0m \u001b[0mgetattr\u001b[0m\u001b[1;33m(\u001b[0m\u001b[0mhandler\u001b[0m\u001b[1;33m,\u001b[0m \u001b[0mmeth_name\u001b[0m\u001b[1;33m)\u001b[0m\u001b[1;33m\u001b[0m\u001b[1;33m\u001b[0m\u001b[0m\n\u001b[1;32m--> 502\u001b[1;33m             \u001b[0mresult\u001b[0m \u001b[1;33m=\u001b[0m \u001b[0mfunc\u001b[0m\u001b[1;33m(\u001b[0m\u001b[1;33m*\u001b[0m\u001b[0margs\u001b[0m\u001b[1;33m)\u001b[0m\u001b[1;33m\u001b[0m\u001b[1;33m\u001b[0m\u001b[0m\n\u001b[0m\u001b[0;32m    503\u001b[0m             \u001b[1;32mif\u001b[0m \u001b[0mresult\u001b[0m \u001b[1;32mis\u001b[0m \u001b[1;32mnot\u001b[0m \u001b[1;32mNone\u001b[0m\u001b[1;33m:\u001b[0m\u001b[1;33m\u001b[0m\u001b[1;33m\u001b[0m\u001b[0m\n",
      "\u001b[1;32m~\\anaconda3\\lib\\urllib\\request.py\u001b[0m in \u001b[0;36mhttp_error_default\u001b[1;34m(self, req, fp, code, msg, hdrs)\u001b[0m\n\u001b[0;32m    648\u001b[0m     \u001b[1;32mdef\u001b[0m \u001b[0mhttp_error_default\u001b[0m\u001b[1;33m(\u001b[0m\u001b[0mself\u001b[0m\u001b[1;33m,\u001b[0m \u001b[0mreq\u001b[0m\u001b[1;33m,\u001b[0m \u001b[0mfp\u001b[0m\u001b[1;33m,\u001b[0m \u001b[0mcode\u001b[0m\u001b[1;33m,\u001b[0m \u001b[0mmsg\u001b[0m\u001b[1;33m,\u001b[0m \u001b[0mhdrs\u001b[0m\u001b[1;33m)\u001b[0m\u001b[1;33m:\u001b[0m\u001b[1;33m\u001b[0m\u001b[1;33m\u001b[0m\u001b[0m\n\u001b[1;32m--> 649\u001b[1;33m         \u001b[1;32mraise\u001b[0m \u001b[0mHTTPError\u001b[0m\u001b[1;33m(\u001b[0m\u001b[0mreq\u001b[0m\u001b[1;33m.\u001b[0m\u001b[0mfull_url\u001b[0m\u001b[1;33m,\u001b[0m \u001b[0mcode\u001b[0m\u001b[1;33m,\u001b[0m \u001b[0mmsg\u001b[0m\u001b[1;33m,\u001b[0m \u001b[0mhdrs\u001b[0m\u001b[1;33m,\u001b[0m \u001b[0mfp\u001b[0m\u001b[1;33m)\u001b[0m\u001b[1;33m\u001b[0m\u001b[1;33m\u001b[0m\u001b[0m\n\u001b[0m\u001b[0;32m    650\u001b[0m \u001b[1;33m\u001b[0m\u001b[0m\n",
      "\u001b[1;31mHTTPError\u001b[0m: HTTP Error 400: Bad Request",
      "\nDuring handling of the above exception, another exception occurred:\n",
      "\u001b[1;31mAlgodHTTPError\u001b[0m                            Traceback (most recent call last)",
      "\u001b[1;32m~\\AppData\\Local\\Temp/ipykernel_44748/4235013255.py\u001b[0m in \u001b[0;36m<module>\u001b[1;34m\u001b[0m\n\u001b[0;32m      8\u001b[0m \u001b[1;33m\u001b[0m\u001b[0m\n\u001b[0;32m      9\u001b[0m \u001b[1;31m# Step 3: send\u001b[0m\u001b[1;33m\u001b[0m\u001b[1;33m\u001b[0m\u001b[1;33m\u001b[0m\u001b[0m\n\u001b[1;32m---> 10\u001b[1;33m \u001b[0mtxid\u001b[0m \u001b[1;33m=\u001b[0m \u001b[0malgod_client\u001b[0m\u001b[1;33m.\u001b[0m\u001b[0msend_transactions\u001b[0m\u001b[1;33m(\u001b[0m\u001b[1;33m[\u001b[0m\u001b[0mstxn\u001b[0m\u001b[1;33m]\u001b[0m\u001b[1;33m)\u001b[0m\u001b[1;33m\u001b[0m\u001b[1;33m\u001b[0m\u001b[0m\n\u001b[0m\u001b[0;32m     11\u001b[0m \u001b[1;33m\u001b[0m\u001b[0m\n\u001b[0;32m     12\u001b[0m \u001b[1;31m# Step 4: wait for condfirmation\u001b[0m\u001b[1;33m\u001b[0m\u001b[1;33m\u001b[0m\u001b[1;33m\u001b[0m\u001b[0m\n",
      "\u001b[1;32m~\\anaconda3\\lib\\site-packages\\algosdk\\v2client\\algod.py\u001b[0m in \u001b[0;36msend_transactions\u001b[1;34m(self, txns, **kwargs)\u001b[0m\n\u001b[0;32m    305\u001b[0m             \u001b[0mserialized\u001b[0m\u001b[1;33m.\u001b[0m\u001b[0mappend\u001b[0m\u001b[1;33m(\u001b[0m\u001b[0mbase64\u001b[0m\u001b[1;33m.\u001b[0m\u001b[0mb64decode\u001b[0m\u001b[1;33m(\u001b[0m\u001b[0mencoding\u001b[0m\u001b[1;33m.\u001b[0m\u001b[0mmsgpack_encode\u001b[0m\u001b[1;33m(\u001b[0m\u001b[0mtxn\u001b[0m\u001b[1;33m)\u001b[0m\u001b[1;33m)\u001b[0m\u001b[1;33m)\u001b[0m\u001b[1;33m\u001b[0m\u001b[1;33m\u001b[0m\u001b[0m\n\u001b[0;32m    306\u001b[0m \u001b[1;33m\u001b[0m\u001b[0m\n\u001b[1;32m--> 307\u001b[1;33m         return self.send_raw_transaction(\n\u001b[0m\u001b[0;32m    308\u001b[0m             \u001b[0mbase64\u001b[0m\u001b[1;33m.\u001b[0m\u001b[0mb64encode\u001b[0m\u001b[1;33m(\u001b[0m\u001b[1;34mb\"\"\u001b[0m\u001b[1;33m.\u001b[0m\u001b[0mjoin\u001b[0m\u001b[1;33m(\u001b[0m\u001b[0mserialized\u001b[0m\u001b[1;33m)\u001b[0m\u001b[1;33m)\u001b[0m\u001b[1;33m,\u001b[0m \u001b[1;33m**\u001b[0m\u001b[0mkwargs\u001b[0m\u001b[1;33m\u001b[0m\u001b[1;33m\u001b[0m\u001b[0m\n\u001b[0;32m    309\u001b[0m         )\n",
      "\u001b[1;32m~\\anaconda3\\lib\\site-packages\\algosdk\\v2client\\algod.py\u001b[0m in \u001b[0;36msend_raw_transaction\u001b[1;34m(self, txn, **kwargs)\u001b[0m\n\u001b[0;32m    235\u001b[0m         \u001b[0mkwargs\u001b[0m\u001b[1;33m[\u001b[0m\u001b[1;34m\"headers\"\u001b[0m\u001b[1;33m]\u001b[0m \u001b[1;33m=\u001b[0m \u001b[0mheaders\u001b[0m\u001b[1;33m\u001b[0m\u001b[1;33m\u001b[0m\u001b[0m\n\u001b[0;32m    236\u001b[0m \u001b[1;33m\u001b[0m\u001b[0m\n\u001b[1;32m--> 237\u001b[1;33m         \u001b[1;32mreturn\u001b[0m \u001b[0mself\u001b[0m\u001b[1;33m.\u001b[0m\u001b[0malgod_request\u001b[0m\u001b[1;33m(\u001b[0m\u001b[1;34m\"POST\"\u001b[0m\u001b[1;33m,\u001b[0m \u001b[0mreq\u001b[0m\u001b[1;33m,\u001b[0m \u001b[0mdata\u001b[0m\u001b[1;33m=\u001b[0m\u001b[0mtxn\u001b[0m\u001b[1;33m,\u001b[0m \u001b[1;33m**\u001b[0m\u001b[0mkwargs\u001b[0m\u001b[1;33m)\u001b[0m\u001b[1;33m[\u001b[0m\u001b[1;34m\"txId\"\u001b[0m\u001b[1;33m]\u001b[0m\u001b[1;33m\u001b[0m\u001b[1;33m\u001b[0m\u001b[0m\n\u001b[0m\u001b[0;32m    238\u001b[0m \u001b[1;33m\u001b[0m\u001b[0m\n\u001b[0;32m    239\u001b[0m     def pending_transactions(\n",
      "\u001b[1;32m~\\anaconda3\\lib\\site-packages\\algosdk\\v2client\\algod.py\u001b[0m in \u001b[0;36malgod_request\u001b[1;34m(self, method, requrl, params, data, headers, response_format)\u001b[0m\n\u001b[0;32m     87\u001b[0m                 \u001b[0me\u001b[0m \u001b[1;33m=\u001b[0m \u001b[0mjson\u001b[0m\u001b[1;33m.\u001b[0m\u001b[0mloads\u001b[0m\u001b[1;33m(\u001b[0m\u001b[0me\u001b[0m\u001b[1;33m)\u001b[0m\u001b[1;33m[\u001b[0m\u001b[1;34m\"message\"\u001b[0m\u001b[1;33m]\u001b[0m\u001b[1;33m\u001b[0m\u001b[1;33m\u001b[0m\u001b[0m\n\u001b[0;32m     88\u001b[0m             \u001b[1;32mfinally\u001b[0m\u001b[1;33m:\u001b[0m\u001b[1;33m\u001b[0m\u001b[1;33m\u001b[0m\u001b[0m\n\u001b[1;32m---> 89\u001b[1;33m                 \u001b[1;32mraise\u001b[0m \u001b[0merror\u001b[0m\u001b[1;33m.\u001b[0m\u001b[0mAlgodHTTPError\u001b[0m\u001b[1;33m(\u001b[0m\u001b[0me\u001b[0m\u001b[1;33m,\u001b[0m \u001b[0mcode\u001b[0m\u001b[1;33m)\u001b[0m\u001b[1;33m\u001b[0m\u001b[1;33m\u001b[0m\u001b[0m\n\u001b[0m\u001b[0;32m     90\u001b[0m         \u001b[1;32mif\u001b[0m \u001b[0mresponse_format\u001b[0m \u001b[1;33m==\u001b[0m \u001b[1;34m\"json\"\u001b[0m\u001b[1;33m:\u001b[0m\u001b[1;33m\u001b[0m\u001b[1;33m\u001b[0m\u001b[0m\n\u001b[0;32m     91\u001b[0m             \u001b[1;32mtry\u001b[0m\u001b[1;33m:\u001b[0m\u001b[1;33m\u001b[0m\u001b[1;33m\u001b[0m\u001b[0m\n",
      "\u001b[1;31mAlgodHTTPError\u001b[0m: TransactionPool.Remember: transaction KWJJYYA6X5DSP2PR3NZEUUJA54UCXS2FYMT6QVDP4QDAAS3KKUEQ: logic eval error: assert failed pc=70. Details: pc=70, opcodes=intc_1 // 0\n>\nassert\n"
     ]
    }
   ],
   "source": [
    "user = Bob\n",
    "# Step 1: prepare\n",
    "sp = algod_client.suggested_params()\n",
    "txn = transaction.ApplicationNoOpTxn(user['public'], sp, app_id,foreign_assets=[SSC_id])\n",
    "\n",
    "# Step 2: sign\n",
    "stxn = txn.sign(user['private'])\n",
    "\n",
    "# Step 3: send\n",
    "txid = algod_client.send_transactions([stxn])\n",
    "\n",
    "# Step 4: wait for condfirmation\n",
    "txinfo = wait_for_confirmation(algod_client, txid)"
   ]
  },
  {
   "cell_type": "code",
   "execution_count": 10,
   "id": "e26e5e16-0d93-443a-9a56-f5fa7dce6a44",
   "metadata": {
    "collapsed": true,
    "jupyter": {
     "outputs_hidden": true
    },
    "tags": []
   },
   "outputs": [
    {
     "name": "stdout",
     "output_type": "stream",
     "text": [
      "Current round is  20295627.\n",
      "Waiting for round 20295627 to finish.\n",
      "Waiting for round 20295628 to finish.\n",
      "Transaction XVLXG26VC5YJE2LQAO4N5R6J2AFNXXPMIZDHNTCOFTOPSSSGKPJA confirmed in round 20295629.\n"
     ]
    }
   ],
   "source": [
    "# Transfer to Bob\n",
    "\n",
    "# Step 1: prepare and create TX\n",
    "sp = algod_client.suggested_params()             # Suggested params\n",
    "amt = int(10 * 10**token_decimals)               # <-- Send 10 WSC ... specify SMALL units\n",
    "\n",
    "txn = AssetTransferTxn(\n",
    "    sender=MyAlgo['public'],\n",
    "    sp=sp,\n",
    "    receiver=Bob['public'],\n",
    "    amt=amt,\n",
    "    index=SSC_id\n",
    "    )                \n",
    "\n",
    "# Step 2: sign \n",
    "signed_txn = txn.sign(MyAlgo['private'])\n",
    "\n",
    "# Step 3: Send\n",
    "txid = algod_client.send_transaction(signed_txn)\n",
    "    \n",
    "# Step 4: Wait for confirmation\n",
    "txinfo = wait_for_confirmation(algod_client,txid)"
   ]
  },
  {
   "cell_type": "code",
   "execution_count": 12,
   "id": "88d0034c-07d3-416e-93c1-5421368dc18f",
   "metadata": {
    "collapsed": true,
    "jupyter": {
     "outputs_hidden": true,
     "source_hidden": true
    },
    "tags": []
   },
   "outputs": [
    {
     "name": "stdout",
     "output_type": "stream",
     "text": [
      "Current round is  20295642.\n",
      "Waiting for round 20295642 to finish.\n",
      "Waiting for round 20295643 to finish.\n",
      "Transaction 6CKNVA5BMPB3LU2NOM4RNY3GXDVNGYJWAHSYPKI5ICOQ5FVYQX3Q confirmed in round 20295644.\n"
     ]
    }
   ],
   "source": [
    "# Opt-in for Dina\n",
    "# Step 1: prepare and create TX\n",
    "sp = algod_client.suggested_params()             # Suggested params\n",
    "amt = int(0)                                     # <-- Send 0 token\n",
    "\n",
    "txn = AssetTransferTxn(\n",
    "    sender=Dina['public'],\n",
    "    sp=sp,\n",
    "    receiver=Dina['public'],\n",
    "    amt=amt,\n",
    "    index=SSC_id\n",
    "    )                \n",
    "\n",
    "# Step 2: sign \n",
    "signed_txn = txn.sign(Dina['private'])\n",
    "\n",
    "# Step 3: Send\n",
    "txid = algod_client.send_transaction(signed_txn)\n",
    "    \n",
    "# Step 4: Wait for confirmation\n",
    "txinfo = wait_for_confirmation(algod_client,txid)"
   ]
  },
  {
   "cell_type": "code",
   "execution_count": 13,
   "id": "02c6c909-b072-477e-9b2b-f0a1fabae801",
   "metadata": {
    "collapsed": true,
    "jupyter": {
     "outputs_hidden": true,
     "source_hidden": true
    },
    "tags": []
   },
   "outputs": [
    {
     "name": "stdout",
     "output_type": "stream",
     "text": [
      "Current round is  20295644.\n",
      "Waiting for round 20295644 to finish.\n",
      "Waiting for round 20295645 to finish.\n",
      "Transaction QY7MKX7CM2N6QEWSWTPBQQUOXMNJ7Y4D37G6CHPORKDQM7RFIPNQ confirmed in round 20295646.\n"
     ]
    }
   ],
   "source": [
    "# Transfer to Dina\n",
    "\n",
    "# Step 1: prepare and create TX\n",
    "sp = algod_client.suggested_params()             # Suggested params\n",
    "amt = int(10 * 10**token_decimals)               # <-- Send 10 WSC ... specify SMALL units\n",
    "\n",
    "txn = AssetTransferTxn(\n",
    "    sender=MyAlgo['public'],\n",
    "    sp=sp,\n",
    "    receiver=Dina['public'],\n",
    "    amt=amt,\n",
    "    index=SSC_id\n",
    "    )                \n",
    "\n",
    "# Step 2: sign \n",
    "signed_txn = txn.sign(MyAlgo['private'])\n",
    "\n",
    "# Step 3: Send\n",
    "txid = algod_client.send_transaction(signed_txn)\n",
    "    \n",
    "# Step 4: Wait for confirmation\n",
    "txinfo = wait_for_confirmation(algod_client,txid)"
   ]
  },
  {
   "cell_type": "code",
   "execution_count": 6,
   "id": "01f514c9-372a-46f3-bfda-5f075c965b32",
   "metadata": {
    "tags": []
   },
   "outputs": [],
   "source": [
    "def read_local_state(client, addr, app_id):\n",
    "    # reads a user's local state\n",
    "    # client = algod_client\n",
    "    # addr = public addr of the user that we want to inspect\n",
    "    results = client.account_info(addr)\n",
    "    for local_state in results[\"apps-local-state\"]:\n",
    "        if local_state[\"id\"] == app_id:\n",
    "            if \"key-value\" not in local_state:\n",
    "                return {}\n",
    "            return format_state(local_state[\"key-value\"])\n",
    "    return {}\n",
    "\n",
    "def read_global_state(client, app_id):\n",
    "    # reads an app's global state\n",
    "    return  algod_client.application_info(app_id)[\"params\"][\"global-state\"]\n",
    "\n",
    "def format_state(state):\n",
    "    # formats the state (local/global) nicely \n",
    "    formatted = {}\n",
    "    textvariables = {'Info','Note'}        # <---- update this! (List of Text variables in SC)\n",
    "    for item in state:\n",
    "        key = base64.b64decode(item[\"key\"]).decode(\"utf-8\")\n",
    "        value = item[\"value\"]\n",
    "        if value[\"type\"] == 1:\n",
    "            if key in textvariables:                 # Format text variables\n",
    "                formatted_value = base64.b64decode(value[\"bytes\"]).decode(\"utf-8\")\n",
    "            else:                                    # Format addresses\n",
    "                formatted_value = base64.b32encode(base64.b64decode(value[\"bytes\"]))\n",
    "            formatted[key] = formatted_value\n",
    "        else:\n",
    "            formatted[key] = value[\"uint\"]\n",
    "    return formatted"
   ]
  },
  {
   "cell_type": "markdown",
   "id": "9bfbbde9-c413-4bea-a61e-5f483597ddcc",
   "metadata": {
    "jp-MarkdownHeadingCollapsed": true,
    "jupyter": {
     "source_hidden": true
    },
    "tags": []
   },
   "source": [
    "## A first stateful smart contract\n",
    "The stateful smart contract consists of two parts\n",
    "* The `approval_program` that handles everything except opt out\n",
    "* The `clear_state_program` that handles the opt out"
   ]
  },
  {
   "cell_type": "code",
   "execution_count": null,
   "id": "0f8ab7d9-c290-475f-99f9-6ae71ba9770f",
   "metadata": {},
   "outputs": [],
   "source": []
  },
  {
   "cell_type": "markdown",
   "id": "c4bfc6dc-c0d3-43ce-bac9-03f62257e611",
   "metadata": {},
   "source": [
    "## Our first project: Fanbase\n",
    "* Idea: count the number of *fans* of the smart contract\n",
    "* This smart contract has two variables\n",
    "    * `Fans` counts the number of users that have opted in\n",
    "    * `Visits` counts the number of times any user has called the SC    "
   ]
  },
  {
   "cell_type": "markdown",
   "id": "e6cbb2e9",
   "metadata": {},
   "source": [
    "#### Step 1: Define Approval program\n",
    "This is the program that handles all interactions except opt out:\n",
    "* Creation of the SC `handle_creation`\n",
    "* Opt-in of individual users `handle_register`\n",
    "* Interactions (calls) of individual users `handle_interact`\n"
   ]
  },
  {
   "cell_type": "code",
   "execution_count": 14,
   "id": "f2297019-2c5f-40a0-b6ba-3b3c860f22ed",
   "metadata": {
    "tags": []
   },
   "outputs": [],
   "source": [
    "handle_creation = Seq(\n",
    "    [\n",
    "        # Initialize GLOBAL variables\n",
    "        App.globalPut(Bytes(\"Creator\"),    Global.creator_address()),            \n",
    "        Return(Int(1)),                                          # Return \"OK\"\n",
    "    ]\n",
    ")\n",
    "\n",
    "handle_optin = Return ( Int(1) )                  # Not doing anything, returning \"OK\"           \n",
    "\n",
    "handle_closeout = Return( Int(1) )                # Not doing anything, returning \"OK\"  \n",
    "\n",
    "handle_updateapp = Return( Int(0) )               # Always FALSE ... updating not allowed\n",
    "\n",
    "handle_deleteapp = Return(\n",
    "    Txn.sender() == Global.creator_address()    # only TRUE if delete request is made by creator\n",
    ")\n",
    "\n",
    "# handle interaction\n",
    "handle_noop  = Return ( Int(1) )                   # Not doing anything, returning \"OK\"      "
   ]
  },
  {
   "cell_type": "code",
   "execution_count": 15,
   "id": "395df1cc-5fe3-48b5-a3e4-7500b6bcac65",
   "metadata": {
    "tags": []
   },
   "outputs": [],
   "source": [
    "social_security_pyteal = Cond(\n",
    "    [Txn.application_id() == Int(0),              handle_creation],\n",
    "    [Txn.on_completion()  == OnComplete.OptIn,    handle_optin],\n",
    "    [Txn.on_completion()  == OnComplete.CloseOut, handle_closeout],\n",
    "    [Txn.on_completion()  == OnComplete.UpdateApplication, handle_updateapp],\n",
    "    [Txn.on_completion()  == OnComplete.DeleteApplication, handle_deleteapp],\n",
    "    [Txn.on_completion()  == OnComplete.NoOp, handle_noop],\n",
    ")"
   ]
  },
  {
   "cell_type": "markdown",
   "id": "078b689c-8e7b-4c84-aa8d-94164111174b",
   "metadata": {},
   "source": [
    "#### Compile PyTEAL -> TEAL\n",
    "* Notice the `Mode.Application` (was `Mode.Signature`)"
   ]
  },
  {
   "cell_type": "code",
   "execution_count": 19,
   "id": "caf3cabc-dce7-4107-8617-53700a92f0ab",
   "metadata": {
    "tags": []
   },
   "outputs": [
    {
     "name": "stdout",
     "output_type": "stream",
     "text": [
      "#pragma version 4\n",
      "txn ApplicationID\n",
      "int 0\n",
      "==\n",
      "bnz main_l12\n",
      "txn OnCompletion\n",
      "int OptIn\n",
      "==\n",
      "bnz main_l11\n",
      "txn OnCompletion\n",
      "int CloseOut\n",
      "==\n",
      "bnz main_l10\n",
      "txn OnCompletion\n",
      "int UpdateApplication\n",
      "==\n",
      "bnz main_l9\n",
      "txn OnCompletion\n",
      "int DeleteApplication\n",
      "==\n",
      "bnz main_l8\n",
      "txn OnCompletion\n",
      "int NoOp\n",
      "==\n",
      "bnz main_l7\n",
      "err\n",
      "main_l7:\n",
      "int 1\n",
      "return\n",
      "main_l8:\n",
      "txn Sender\n",
      "global CreatorAddress\n",
      "==\n",
      "return\n",
      "main_l9:\n",
      "int 0\n",
      "return\n",
      "main_l10:\n",
      "int 1\n",
      "return\n",
      "main_l11:\n",
      "int 1\n",
      "return\n",
      "main_l12:\n",
      "byte \"Creator\"\n",
      "global CreatorAddress\n",
      "app_global_put\n",
      "int 1\n",
      "return\n"
     ]
    }
   ],
   "source": [
    "social_security_teal = compileTeal(social_security_pyteal,mode=Mode.Application, version=4)\n",
    "print(social_security_teal)"
   ]
  },
  {
   "cell_type": "markdown",
   "id": "23e7a9d1-3d6e-4a20-a98d-e7ece91891a1",
   "metadata": {
    "tags": []
   },
   "source": [
    "#### Step 1b: Define Clear State program\n",
    "* This program handles forced opt-outs"
   ]
  },
  {
   "cell_type": "code",
   "execution_count": 39,
   "id": "1bf34d83-67c0-4e6e-89f5-f5125c926106",
   "metadata": {
    "tags": []
   },
   "outputs": [],
   "source": [
    "visits = App.globalGet(Bytes(\"All_visits\"))\n",
    "visits_loc  = App.localGet(Int(0), Bytes(\"Visits\"))\n",
    "\n",
    "fanbase_clear_pyteal = Seq(\n",
    "    [\n",
    "        App.globalPut(Bytes(\"All_visits\"), visits - visits_loc),\n",
    "        Return(Int(1)),\n",
    "    ]\n",
    ")"
   ]
  },
  {
   "cell_type": "code",
   "execution_count": 40,
   "id": "62b736ac-2632-4c72-8d2a-974bb969a16d",
   "metadata": {},
   "outputs": [
    {
     "name": "stdout",
     "output_type": "stream",
     "text": [
      "#pragma version 4\n",
      "byte \"All_visits\"\n",
      "byte \"All_visits\"\n",
      "app_global_get\n",
      "int 0\n",
      "byte \"Visits\"\n",
      "app_local_get\n",
      "-\n",
      "app_global_put\n",
      "int 1\n",
      "return\n"
     ]
    }
   ],
   "source": [
    "fanbase_clear_teal = compileTeal(fanbase_clear_pyteal,mode=Mode.Application, version=4)\n",
    "print(fanbase_clear_teal)"
   ]
  },
  {
   "cell_type": "markdown",
   "id": "dd80aef2-e87e-439d-a9d1-55626b2b8bc9",
   "metadata": {},
   "source": [
    "#### Compile TEAL -> Bytecode\n",
    "This is slightly different ... we need one additional step for Byte-encoding"
   ]
  },
  {
   "cell_type": "code",
   "execution_count": 41,
   "id": "d1e7fa24-730b-42d7-bba4-724290496ecf",
   "metadata": {},
   "outputs": [],
   "source": [
    "fanbase_approval_b64 = algod_client.compile(fanbase_approval_teal)\n",
    "Fanbase_Approval =  base64.b64decode(fanbase_approval_b64['result'])\n",
    "\n",
    "fanbase_clear_b64 = algod_client.compile(fanbase_clear_teal)\n",
    "Fanbase_Clear =  base64.b64decode(fanbase_clear_b64['result'])"
   ]
  },
  {
   "cell_type": "markdown",
   "id": "e9c3af5a-1c26-4c24-afb2-e5514ccb5be7",
   "metadata": {},
   "source": [
    "## Deploy Smart Contract\n",
    "\n",
    "##### Bob deploys the smart contract\n",
    "* Reserve (global/local) storage with `StateSchema`\n",
    "* New command `ApplicationCreateTxn`\n",
    "* See [here](https://py-algorand-sdk.readthedocs.io/en/latest/algosdk/future/transaction.html#algosdk.future.transaction.ApplicationCreateTxn)"
   ]
  },
  {
   "cell_type": "code",
   "execution_count": 42,
   "id": "ec2f9e29-feaa-4297-80cb-560ad2938e26",
   "metadata": {},
   "outputs": [],
   "source": [
    "# Step 1: Prepare the transaction\n",
    "sp = algod_client.suggested_params()\n",
    "\n",
    "# How much space do we need?\n",
    "global_ints = 2    # for Fans and All_Visits\n",
    "global_bytes = 3   # for Creator, Info, Note\n",
    "fanbase_global_schema = transaction.StateSchema(global_ints, global_bytes)\n",
    "\n",
    "local_ints = 1     # For Visits\n",
    "local_bytes = 0    # No local Byte/Text storag\n",
    "fanbase_local_schema = transaction.StateSchema(local_ints, local_bytes)\n",
    "\n",
    "txn = transaction.ApplicationCreateTxn(\n",
    "      sender = Bob['public'],                # <-- sender public\n",
    "      sp = sp,                               # <-- sp\n",
    "      on_complete = 0,                       # <- what to do when finished (nothing)\n",
    "      approval_program = Fanbase_Approval,   # <-- approval program \n",
    "      clear_program = Fanbase_Clear,         # <-- clear program \n",
    "      global_schema = fanbase_global_schema, # <-- reserve global space \n",
    "      local_schema = fanbase_local_schema    # <-- reserve local space\n",
    "    )"
   ]
  },
  {
   "cell_type": "code",
   "execution_count": 43,
   "id": "62e83a02-5ac0-4a6c-a30e-c97b0f4494ba",
   "metadata": {},
   "outputs": [
    {
     "name": "stdout",
     "output_type": "stream",
     "text": [
      "Current round is  19848385.\n",
      "Waiting for round 19848385 to finish.\n",
      "Waiting for round 19848386 to finish.\n",
      "Transaction OPASQI3IXMMAAF2NJF5JJXC3ZNUPOXD65BXE7NMBEB5CEIEZW3HQ confirmed in round 19848387.\n"
     ]
    }
   ],
   "source": [
    "# Step 2: sign transaction\n",
    "stxn = txn.sign(Bob['private'])\n",
    "\n",
    "# Step 3: send\n",
    "txid=algod_client.send_transactions([stxn])\n",
    "\n",
    "# Step 4: wait for ...\n",
    "txinfo = wait_for_confirmation(algod_client, txid)"
   ]
  },
  {
   "cell_type": "code",
   "execution_count": 44,
   "id": "d75fc026-762c-4d6e-8441-bf92d9b220a9",
   "metadata": {},
   "outputs": [
    {
     "name": "stdout",
     "output_type": "stream",
     "text": [
      "Created new app-id: 71740531\n"
     ]
    }
   ],
   "source": [
    "app_id = txinfo[\"application-index\"]\n",
    "print(\"Created new app-id:\", app_id)"
   ]
  },
  {
   "cell_type": "markdown",
   "id": "572f671a-b1b8-45af-a529-5623908b57f8",
   "metadata": {},
   "source": [
    "## The Smart Contract is now deployed\n",
    "* And there is alreasdy something to see"
   ]
  },
  {
   "cell_type": "code",
   "execution_count": 45,
   "id": "67436e8f-1bd6-4a9a-b2a6-f87b3a665772",
   "metadata": {},
   "outputs": [
    {
     "data": {
      "text/plain": [
       "{'Creator': b'G6CQ6JO37JFGQBIW5IPP2OYWRN2XWGKQY4IXQ3SRNQC73ZTPCPLQ====',\n",
       " 'Info': 'www.usi.ch',\n",
       " 'All_visits': 0,\n",
       " 'Fans': 0,\n",
       " 'Note': 'Hello world!'}"
      ]
     },
     "execution_count": 45,
     "metadata": {},
     "output_type": "execute_result"
    }
   ],
   "source": [
    "format_state(read_global_state(algod_client,app_id))"
   ]
  },
  {
   "cell_type": "code",
   "execution_count": 46,
   "id": "de980adb-3dd9-4b94-a628-b835af7e1d34",
   "metadata": {},
   "outputs": [
    {
     "name": "stdout",
     "output_type": "stream",
     "text": [
      "https://testnet.algoexplorer.io/application/71740531\n"
     ]
    }
   ],
   "source": [
    "# Program code immediately visible on the web\n",
    "print('https://testnet.algoexplorer.io/application/{}'.format(app_id))"
   ]
  },
  {
   "cell_type": "markdown",
   "id": "307c1e0e-5a36-43e8-86d1-7e18fdc0aef2",
   "metadata": {},
   "source": [
    "## Using the Smart Contract (1): Users opt-in\n",
    "* Using `ApplicationOptInTxn`\n",
    "* See [here](https://py-algorand-sdk.readthedocs.io/en/latest/algosdk/future/transaction.html#algosdk.future.transaction.ApplicationOptInTxn)"
   ]
  },
  {
   "cell_type": "code",
   "execution_count": 54,
   "id": "921f46da-6c68-4daf-8e29-c86a1a65abd6",
   "metadata": {},
   "outputs": [
    {
     "name": "stdout",
     "output_type": "stream",
     "text": [
      "Current round is  19848422.\n",
      "Waiting for round 19848422 to finish.\n",
      "Waiting for round 19848423 to finish.\n",
      "Transaction E57KBEAWER34LNSUSQHMYAAPCYNMMQG2UX3SA2IQQIYQL3JKPZEQ confirmed in round 19848424.\n"
     ]
    }
   ],
   "source": [
    "user = Charlie\n",
    "\n",
    "# Step 1: prepare transaction\n",
    "sp = algod_client.suggested_params()\n",
    "txn = transaction.ApplicationOptInTxn(user['public'], sp, app_id)\n",
    "\n",
    "# Step 2: sign transaction\n",
    "stxn = txn.sign(user['private'])\n",
    "\n",
    "# Step 3: send\n",
    "txid = algod_client.send_transactions([stxn])\n",
    "\n",
    "# Step 4: await confirmation\n",
    "txinfo = wait_for_confirmation(algod_client, txid)"
   ]
  },
  {
   "cell_type": "markdown",
   "id": "dc4ded6a-311d-47f8-9a32-4a242e8738a3",
   "metadata": {},
   "source": [
    "#### Watch the state of the contract evolve"
   ]
  },
  {
   "cell_type": "code",
   "execution_count": 55,
   "id": "0570f72f-9854-4234-841d-5f4afddcaf28",
   "metadata": {},
   "outputs": [
    {
     "data": {
      "text/plain": [
       "{'Creator': b'G6CQ6JO37JFGQBIW5IPP2OYWRN2XWGKQY4IXQ3SRNQC73ZTPCPLQ====',\n",
       " 'Info': 'www.usi.ch',\n",
       " 'All_visits': 0,\n",
       " 'Fans': 3,\n",
       " 'Note': 'So many'}"
      ]
     },
     "execution_count": 55,
     "metadata": {},
     "output_type": "execute_result"
    }
   ],
   "source": [
    "format_state(read_global_state(algod_client,app_id))"
   ]
  },
  {
   "cell_type": "code",
   "execution_count": 56,
   "id": "6fc19809-4421-4972-96e2-f703b91073c4",
   "metadata": {},
   "outputs": [
    {
     "data": {
      "text/plain": [
       "{'Visits': 0}"
      ]
     },
     "execution_count": 56,
     "metadata": {},
     "output_type": "execute_result"
    }
   ],
   "source": [
    "read_local_state(algod_client,user['public'],app_id)"
   ]
  },
  {
   "cell_type": "markdown",
   "id": "e98d8ccb-27f9-492b-a277-4a6c0dbf6fb1",
   "metadata": {},
   "source": [
    "#### Now try\n",
    "* For Bob to opt-in\n",
    "* For Charlie to opt in"
   ]
  },
  {
   "cell_type": "markdown",
   "id": "e960c3d1-0dcb-4913-a02c-cadaf418007f",
   "metadata": {},
   "source": [
    "## Users can call the Smart contract (\"make a visit\")\n",
    "* Strangley, calling a Smart Contact is done with a `ApplicationNoOpTxn`\n",
    "* See [here](https://py-algorand-sdk.readthedocs.io/en/latest/algosdk/future/transaction.html#algosdk.future.transaction.ApplicationNoOpTxn)"
   ]
  },
  {
   "cell_type": "code",
   "execution_count": 63,
   "id": "5965a7bc-2c91-4137-a5f0-0d6d3781d715",
   "metadata": {},
   "outputs": [
    {
     "name": "stdout",
     "output_type": "stream",
     "text": [
      "Current round is  19848439.\n",
      "Waiting for round 19848439 to finish.\n",
      "Waiting for round 19848440 to finish.\n",
      "Transaction 35YF7NDLWKGBSRDT27H2HHVEQIEB5CHYYXODIKDDAEHIEVXKJEOA confirmed in round 19848441.\n"
     ]
    }
   ],
   "source": [
    "user = Bob\n",
    "\n",
    "# Step 1: prepare\n",
    "sp = algod_client.suggested_params()\n",
    "txn = transaction.ApplicationNoOpTxn(user['public'], sp, app_id)\n",
    "\n",
    "# Step 2: sign\n",
    "stxn = txn.sign(user['private'])\n",
    "\n",
    "# Step 3: send\n",
    "txid = algod_client.send_transactions([stxn])\n",
    "\n",
    "# Step 4: wait for condfirmation\n",
    "txinfo = wait_for_confirmation(algod_client, txid)"
   ]
  },
  {
   "cell_type": "markdown",
   "id": "00a0b151-045c-49ff-becd-a12e4b818d12",
   "metadata": {},
   "source": [
    "#### Watch the state of the contract evolve"
   ]
  },
  {
   "cell_type": "code",
   "execution_count": 64,
   "id": "c1b1e41e-4aa0-4876-8fde-01aae812615f",
   "metadata": {},
   "outputs": [
    {
     "data": {
      "text/plain": [
       "{'Info': 'www.usi.ch',\n",
       " 'All_visits': 3,\n",
       " 'Fans': 3,\n",
       " 'Note': 'So many',\n",
       " 'Creator': b'G6CQ6JO37JFGQBIW5IPP2OYWRN2XWGKQY4IXQ3SRNQC73ZTPCPLQ===='}"
      ]
     },
     "execution_count": 64,
     "metadata": {},
     "output_type": "execute_result"
    }
   ],
   "source": [
    "format_state(read_global_state(algod_client,app_id))"
   ]
  },
  {
   "cell_type": "code",
   "execution_count": 65,
   "id": "8ed6d47f-4cdb-45d0-b3e9-29905ecf0254",
   "metadata": {},
   "outputs": [
    {
     "data": {
      "text/plain": [
       "{'Visits': 1}"
      ]
     },
     "execution_count": 65,
     "metadata": {},
     "output_type": "execute_result"
    }
   ],
   "source": [
    "read_local_state(algod_client,user['public'],app_id)"
   ]
  },
  {
   "cell_type": "markdown",
   "id": "e14d0bd4-30c0-4a33-ac46-8046f4b4e58f",
   "metadata": {},
   "source": [
    "## Users close out (leave) App\n",
    "* With a `ApplicationCloseOutTxn`\n",
    "* See [here](https://py-algorand-sdk.readthedocs.io/en/latest/algosdk/future/transaction.html#algosdk.future.transaction.ApplicationCloseOutTxn)"
   ]
  },
  {
   "cell_type": "code",
   "execution_count": 66,
   "id": "1f8c2b07-0b94-4359-8e31-3331ae15520b",
   "metadata": {},
   "outputs": [
    {
     "name": "stdout",
     "output_type": "stream",
     "text": [
      "Current round is  19848493.\n",
      "Waiting for round 19848493 to finish.\n",
      "Waiting for round 19848494 to finish.\n",
      "Transaction I4LFZPP2BC6XMRDXWTDOQNWANFJCX6FYOIDMM5QRRBKDUR5PF37A confirmed in round 19848495.\n"
     ]
    }
   ],
   "source": [
    "user = Alice\n",
    "\n",
    "# Step 1: prepare\n",
    "sp = algod_client.suggested_params()\n",
    "txn = transaction.ApplicationCloseOutTxn(user['public'], sp, app_id)\n",
    "\n",
    "# Step 2: sign\n",
    "stxn = txn.sign(user['private'])\n",
    "\n",
    "# Step 3: send\n",
    "txid = algod_client.send_transactions([stxn])\n",
    "\n",
    "# Step 4: wait for condfirmation\n",
    "txinfo = wait_for_confirmation(algod_client, txid)"
   ]
  },
  {
   "cell_type": "markdown",
   "id": "685febfb-bc38-4e55-b706-a7080357f628",
   "metadata": {},
   "source": [
    "#### Watch the state of the contract evolve"
   ]
  },
  {
   "cell_type": "code",
   "execution_count": 67,
   "id": "b7231d83-8e41-40e7-a461-e5c1e08b3bbc",
   "metadata": {},
   "outputs": [
    {
     "data": {
      "text/plain": [
       "{'All_visits': 1,\n",
       " 'Fans': 2,\n",
       " 'Note': 'So many',\n",
       " 'Creator': b'G6CQ6JO37JFGQBIW5IPP2OYWRN2XWGKQY4IXQ3SRNQC73ZTPCPLQ====',\n",
       " 'Info': 'www.usi.ch'}"
      ]
     },
     "execution_count": 67,
     "metadata": {},
     "output_type": "execute_result"
    }
   ],
   "source": [
    "format_state(read_global_state(algod_client,app_id))"
   ]
  },
  {
   "cell_type": "code",
   "execution_count": 68,
   "id": "aec29e36-35cf-4d62-9f93-b6d2ba5fc94a",
   "metadata": {},
   "outputs": [
    {
     "data": {
      "text/plain": [
       "{}"
      ]
     },
     "execution_count": 68,
     "metadata": {},
     "output_type": "execute_result"
    }
   ],
   "source": [
    "read_local_state(algod_client,user['public'],app_id)"
   ]
  },
  {
   "cell_type": "markdown",
   "id": "ce58bf71-41fd-405a-9076-70d3b57dcad6",
   "metadata": {},
   "source": [
    "## Deleting the app\n",
    "* Rather important, because an address can only create **10 apps**\n",
    "* App can be deleted by creator"
   ]
  },
  {
   "cell_type": "code",
   "execution_count": null,
   "id": "2c946769-84c7-4acf-b614-a9d68fa18c1c",
   "metadata": {},
   "outputs": [],
   "source": [
    "creator = Bob\n",
    "\n",
    "# Step 1: Prepare transaction\n",
    "sp = algod_client.suggested_params()\n",
    "txn = transaction.ApplicationDeleteTxn(creator['public'], sp, app_id)\n",
    "\n",
    "# Step 2: sign\n",
    "stxn = txn.sign(creator['private'])\n",
    "\n",
    "# Step 3: send\n",
    "txid = algod_client.send_transactions([stxn])\n",
    "\n",
    "# Step4 : wait for confirmation\n",
    "txinfo = wait_for_confirmation(algod_client, txid)\n",
    "\n",
    "# display results\n",
    "print(\"Deleted app-id:\", txinfo[\"txn\"][\"txn\"][\"apid\"])"
   ]
  }
 ],
 "metadata": {
  "kernelspec": {
   "display_name": "Python 3 (ipykernel)",
   "language": "python",
   "name": "python3"
  },
  "language_info": {
   "codemirror_mode": {
    "name": "ipython",
    "version": 3
   },
   "file_extension": ".py",
   "mimetype": "text/x-python",
   "name": "python",
   "nbconvert_exporter": "python",
   "pygments_lexer": "ipython3",
   "version": "3.8.12"
  }
 },
 "nbformat": 4,
 "nbformat_minor": 5
}
